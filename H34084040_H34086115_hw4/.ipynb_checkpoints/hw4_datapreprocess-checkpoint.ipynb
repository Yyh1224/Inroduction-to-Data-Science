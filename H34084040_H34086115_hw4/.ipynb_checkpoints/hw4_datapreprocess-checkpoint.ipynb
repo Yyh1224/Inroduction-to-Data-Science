{
 "cells": [
  {
   "cell_type": "markdown",
   "id": "60f1d036",
   "metadata": {},
   "source": [
    "### Data Preprocess"
   ]
  },
  {
   "cell_type": "code",
   "execution_count": 16,
   "id": "dcbd0d89",
   "metadata": {},
   "outputs": [],
   "source": [
    "import numpy as np\n",
    "import pandas as pd\n",
    "train = pd.read_csv('train.csv')\n",
    "test = pd.read_csv('test.csv')"
   ]
  },
  {
   "cell_type": "markdown",
   "id": "6fdfbf49",
   "metadata": {},
   "source": [
    "train_df.shape (8000, 14)\n",
    "test_df.shape (2000, 14)"
   ]
  },
  {
   "cell_type": "code",
   "execution_count": 17,
   "id": "0cf84b7d",
   "metadata": {},
   "outputs": [],
   "source": [
    "#get rid of unrelated features\n",
    "#drop column rownumber, customerid, surname\n",
    "train = train.drop([\"RowNumber\", \"CustomerId\", \"Surname\"], axis = 1)\n",
    "test = test.drop([\"RowNumber\", \"CustomerId\", \"Surname\"], axis = 1)"
   ]
  },
  {
   "cell_type": "code",
   "execution_count": 19,
   "id": "c5187d0f",
   "metadata": {},
   "outputs": [],
   "source": [
    "def preprocess(df):\n",
    "    #continuous, category var\n",
    "    continuous = ['CreditScore',  'Age', 'Tenure', 'Balance','NumOfProducts', 'EstimatedSalary']\n",
    "    category = ['HasCrCard', 'IsActiveMember','Geography', 'Gender']\n",
    "    if 'Exited' in df.columns:\n",
    "        df = df[['Exited'] + continuous + category]\n",
    "    else:\n",
    "        df = df[continuous + category]\n",
    "    #one-hot variables for negative relation\n",
    "    df.loc[train.HasCrCard == 0, 'HasCrCard'] = -1\n",
    "    df.loc[train.IsActiveMember == 0, 'IsActiveMember'] = -1\n",
    "    #one-hot encoding categorical variables\n",
    "    lst = ['Geography', 'Gender']\n",
    "    remove = list()\n",
    "    for i in lst:\n",
    "        if (df[i].dtype == np.str or df[i].dtype == np.object):\n",
    "            for j in df[i].unique():\n",
    "                df[i+'_'+j] = np.where(df[i] == j,1,-1)\n",
    "            remove.append(i)\n",
    "    df = df.drop(remove, axis=1)\n",
    "    # minMax scaling the continuous variables\n",
    "    minVec = df[continuous].min().copy()\n",
    "    maxVec = df[continuous].max().copy()\n",
    "    df[continuous] = (df[continuous]-minVec)/(maxVec-minVec)\n",
    "    return df"
   ]
  },
  {
   "cell_type": "code",
   "execution_count": 20,
   "id": "01d192bb",
   "metadata": {},
   "outputs": [
    {
     "name": "stderr",
     "output_type": "stream",
     "text": [
      "C:\\Users\\yuanhsu\\AppData\\Local\\Temp\\ipykernel_10896\\1952257600.py:16: DeprecationWarning: `np.str` is a deprecated alias for the builtin `str`. To silence this warning, use `str` by itself. Doing this will not modify any behavior and is safe. If you specifically wanted the numpy scalar type, use `np.str_` here.\n",
      "Deprecated in NumPy 1.20; for more details and guidance: https://numpy.org/devdocs/release/1.20.0-notes.html#deprecations\n",
      "  if (df[i].dtype == np.str or df[i].dtype == np.object):\n",
      "C:\\Users\\yuanhsu\\AppData\\Local\\Temp\\ipykernel_10896\\1952257600.py:16: DeprecationWarning: `np.object` is a deprecated alias for the builtin `object`. To silence this warning, use `object` by itself. Doing this will not modify any behavior and is safe. \n",
      "Deprecated in NumPy 1.20; for more details and guidance: https://numpy.org/devdocs/release/1.20.0-notes.html#deprecations\n",
      "  if (df[i].dtype == np.str or df[i].dtype == np.object):\n",
      "C:\\Users\\yuanhsu\\AppData\\Local\\Temp\\ipykernel_10896\\1952257600.py:18: SettingWithCopyWarning: \n",
      "A value is trying to be set on a copy of a slice from a DataFrame.\n",
      "Try using .loc[row_indexer,col_indexer] = value instead\n",
      "\n",
      "See the caveats in the documentation: https://pandas.pydata.org/pandas-docs/stable/user_guide/indexing.html#returning-a-view-versus-a-copy\n",
      "  df[i+'_'+j] = np.where(df[i] == j,1,-1)\n",
      "C:\\Users\\yuanhsu\\AppData\\Local\\Temp\\ipykernel_10896\\1952257600.py:18: SettingWithCopyWarning: \n",
      "A value is trying to be set on a copy of a slice from a DataFrame.\n",
      "Try using .loc[row_indexer,col_indexer] = value instead\n",
      "\n",
      "See the caveats in the documentation: https://pandas.pydata.org/pandas-docs/stable/user_guide/indexing.html#returning-a-view-versus-a-copy\n",
      "  df[i+'_'+j] = np.where(df[i] == j,1,-1)\n",
      "C:\\Users\\yuanhsu\\AppData\\Local\\Temp\\ipykernel_10896\\1952257600.py:18: SettingWithCopyWarning: \n",
      "A value is trying to be set on a copy of a slice from a DataFrame.\n",
      "Try using .loc[row_indexer,col_indexer] = value instead\n",
      "\n",
      "See the caveats in the documentation: https://pandas.pydata.org/pandas-docs/stable/user_guide/indexing.html#returning-a-view-versus-a-copy\n",
      "  df[i+'_'+j] = np.where(df[i] == j,1,-1)\n",
      "C:\\Users\\yuanhsu\\AppData\\Local\\Temp\\ipykernel_10896\\1952257600.py:16: DeprecationWarning: `np.str` is a deprecated alias for the builtin `str`. To silence this warning, use `str` by itself. Doing this will not modify any behavior and is safe. If you specifically wanted the numpy scalar type, use `np.str_` here.\n",
      "Deprecated in NumPy 1.20; for more details and guidance: https://numpy.org/devdocs/release/1.20.0-notes.html#deprecations\n",
      "  if (df[i].dtype == np.str or df[i].dtype == np.object):\n",
      "C:\\Users\\yuanhsu\\AppData\\Local\\Temp\\ipykernel_10896\\1952257600.py:16: DeprecationWarning: `np.object` is a deprecated alias for the builtin `object`. To silence this warning, use `object` by itself. Doing this will not modify any behavior and is safe. \n",
      "Deprecated in NumPy 1.20; for more details and guidance: https://numpy.org/devdocs/release/1.20.0-notes.html#deprecations\n",
      "  if (df[i].dtype == np.str or df[i].dtype == np.object):\n",
      "C:\\Users\\yuanhsu\\AppData\\Local\\Temp\\ipykernel_10896\\1952257600.py:18: SettingWithCopyWarning: \n",
      "A value is trying to be set on a copy of a slice from a DataFrame.\n",
      "Try using .loc[row_indexer,col_indexer] = value instead\n",
      "\n",
      "See the caveats in the documentation: https://pandas.pydata.org/pandas-docs/stable/user_guide/indexing.html#returning-a-view-versus-a-copy\n",
      "  df[i+'_'+j] = np.where(df[i] == j,1,-1)\n",
      "C:\\Users\\yuanhsu\\AppData\\Local\\Temp\\ipykernel_10896\\1952257600.py:18: SettingWithCopyWarning: \n",
      "A value is trying to be set on a copy of a slice from a DataFrame.\n",
      "Try using .loc[row_indexer,col_indexer] = value instead\n",
      "\n",
      "See the caveats in the documentation: https://pandas.pydata.org/pandas-docs/stable/user_guide/indexing.html#returning-a-view-versus-a-copy\n",
      "  df[i+'_'+j] = np.where(df[i] == j,1,-1)\n",
      "C:\\Users\\yuanhsu\\AppData\\Local\\Temp\\ipykernel_10896\\1952257600.py:16: DeprecationWarning: `np.str` is a deprecated alias for the builtin `str`. To silence this warning, use `str` by itself. Doing this will not modify any behavior and is safe. If you specifically wanted the numpy scalar type, use `np.str_` here.\n",
      "Deprecated in NumPy 1.20; for more details and guidance: https://numpy.org/devdocs/release/1.20.0-notes.html#deprecations\n",
      "  if (df[i].dtype == np.str or df[i].dtype == np.object):\n",
      "C:\\Users\\yuanhsu\\AppData\\Local\\Temp\\ipykernel_10896\\1952257600.py:16: DeprecationWarning: `np.object` is a deprecated alias for the builtin `object`. To silence this warning, use `object` by itself. Doing this will not modify any behavior and is safe. \n",
      "Deprecated in NumPy 1.20; for more details and guidance: https://numpy.org/devdocs/release/1.20.0-notes.html#deprecations\n",
      "  if (df[i].dtype == np.str or df[i].dtype == np.object):\n",
      "C:\\Users\\yuanhsu\\AppData\\Local\\Temp\\ipykernel_10896\\1952257600.py:18: SettingWithCopyWarning: \n",
      "A value is trying to be set on a copy of a slice from a DataFrame.\n",
      "Try using .loc[row_indexer,col_indexer] = value instead\n",
      "\n",
      "See the caveats in the documentation: https://pandas.pydata.org/pandas-docs/stable/user_guide/indexing.html#returning-a-view-versus-a-copy\n",
      "  df[i+'_'+j] = np.where(df[i] == j,1,-1)\n",
      "C:\\Users\\yuanhsu\\AppData\\Local\\Temp\\ipykernel_10896\\1952257600.py:18: SettingWithCopyWarning: \n",
      "A value is trying to be set on a copy of a slice from a DataFrame.\n",
      "Try using .loc[row_indexer,col_indexer] = value instead\n",
      "\n",
      "See the caveats in the documentation: https://pandas.pydata.org/pandas-docs/stable/user_guide/indexing.html#returning-a-view-versus-a-copy\n",
      "  df[i+'_'+j] = np.where(df[i] == j,1,-1)\n",
      "C:\\Users\\yuanhsu\\AppData\\Local\\Temp\\ipykernel_10896\\1952257600.py:18: SettingWithCopyWarning: \n",
      "A value is trying to be set on a copy of a slice from a DataFrame.\n",
      "Try using .loc[row_indexer,col_indexer] = value instead\n",
      "\n",
      "See the caveats in the documentation: https://pandas.pydata.org/pandas-docs/stable/user_guide/indexing.html#returning-a-view-versus-a-copy\n",
      "  df[i+'_'+j] = np.where(df[i] == j,1,-1)\n",
      "C:\\Users\\yuanhsu\\AppData\\Local\\Temp\\ipykernel_10896\\1952257600.py:16: DeprecationWarning: `np.str` is a deprecated alias for the builtin `str`. To silence this warning, use `str` by itself. Doing this will not modify any behavior and is safe. If you specifically wanted the numpy scalar type, use `np.str_` here.\n",
      "Deprecated in NumPy 1.20; for more details and guidance: https://numpy.org/devdocs/release/1.20.0-notes.html#deprecations\n",
      "  if (df[i].dtype == np.str or df[i].dtype == np.object):\n",
      "C:\\Users\\yuanhsu\\AppData\\Local\\Temp\\ipykernel_10896\\1952257600.py:16: DeprecationWarning: `np.object` is a deprecated alias for the builtin `object`. To silence this warning, use `object` by itself. Doing this will not modify any behavior and is safe. \n",
      "Deprecated in NumPy 1.20; for more details and guidance: https://numpy.org/devdocs/release/1.20.0-notes.html#deprecations\n",
      "  if (df[i].dtype == np.str or df[i].dtype == np.object):\n",
      "C:\\Users\\yuanhsu\\AppData\\Local\\Temp\\ipykernel_10896\\1952257600.py:18: SettingWithCopyWarning: \n",
      "A value is trying to be set on a copy of a slice from a DataFrame.\n",
      "Try using .loc[row_indexer,col_indexer] = value instead\n",
      "\n",
      "See the caveats in the documentation: https://pandas.pydata.org/pandas-docs/stable/user_guide/indexing.html#returning-a-view-versus-a-copy\n",
      "  df[i+'_'+j] = np.where(df[i] == j,1,-1)\n",
      "C:\\Users\\yuanhsu\\AppData\\Local\\Temp\\ipykernel_10896\\1952257600.py:18: SettingWithCopyWarning: \n",
      "A value is trying to be set on a copy of a slice from a DataFrame.\n",
      "Try using .loc[row_indexer,col_indexer] = value instead\n",
      "\n",
      "See the caveats in the documentation: https://pandas.pydata.org/pandas-docs/stable/user_guide/indexing.html#returning-a-view-versus-a-copy\n",
      "  df[i+'_'+j] = np.where(df[i] == j,1,-1)\n"
     ]
    }
   ],
   "source": [
    "train_pre = preprocess(train)\n",
    "test_pre = preprocess(test)"
   ]
  },
  {
   "cell_type": "code",
   "execution_count": 21,
   "id": "73aaeea3",
   "metadata": {},
   "outputs": [],
   "source": [
    "order = ['Exited','CreditScore','Age','Tenure','Balance','NumOfProducts','EstimatedSalary','HasCrCard','IsActiveMember','Geography_France','Geography_Spain','Geography_Germany','Gender_Female','Gender_Male']\n",
    "train_pre = train_pre[order]"
   ]
  },
  {
   "cell_type": "code",
   "execution_count": 22,
   "id": "19450cd5",
   "metadata": {},
   "outputs": [],
   "source": [
    "train_pre.to_csv('train_preprocess.csv')\n",
    "test_pre.to_csv('test_preprocess.csv')"
   ]
  }
 ],
 "metadata": {
  "kernelspec": {
   "display_name": "Python 3",
   "language": "python",
   "name": "python3"
  },
  "language_info": {
   "codemirror_mode": {
    "name": "ipython",
    "version": 3
   },
   "file_extension": ".py",
   "mimetype": "text/x-python",
   "name": "python",
   "nbconvert_exporter": "python",
   "pygments_lexer": "ipython3",
   "version": "3.8.8"
  }
 },
 "nbformat": 4,
 "nbformat_minor": 5
}
