{
 "cells": [
  {
   "cell_type": "markdown",
   "id": "6d455852",
   "metadata": {},
   "source": [
    "https://www.kaggle.com/code/kmalit/bank-customer-churn-prediction"
   ]
  },
  {
   "cell_type": "markdown",
   "id": "0d33e96a",
   "metadata": {},
   "source": [
    "https://github.com/soanems/bank-customer-churn-python/blob/master/Bank%20Customer%20Churn_2.ipynb"
   ]
  },
  {
   "cell_type": "markdown",
   "id": "47c30041",
   "metadata": {},
   "source": [
    "Neural Network and ML models\n",
    "https://towardsdatascience.com/churn-prediction-using-neural-networks-and-ml-models-c817aadb7057"
   ]
  },
  {
   "cell_type": "markdown",
   "id": "60f1d036",
   "metadata": {},
   "source": [
    "### 1. Load Preprocess Data"
   ]
  },
  {
   "cell_type": "code",
   "execution_count": 6,
   "id": "396a285e",
   "metadata": {},
   "outputs": [],
   "source": [
    "import matplotlib as plt\n",
    "from matplotlib import *\n",
    "from hw4_library import *\n",
    "import matplotlib.style\n",
    "import seaborn as sns\n",
    "import numpy as np\n",
    "import pandas as pd"
   ]
  },
  {
   "cell_type": "code",
   "execution_count": 13,
   "id": "0c945813",
   "metadata": {},
   "outputs": [],
   "source": [
    "direct = 'C:/Users/yuanhsu/Desktop/111-1/資料科學導論/hw4/csv'\n",
    "train_o = open(direct+\"/train.csv\", \"r\")\n",
    "test_o = open(direct+\"/test.csv\", \"r\")"
   ]
  },
  {
   "cell_type": "markdown",
   "id": "6fdfbf49",
   "metadata": {},
   "source": [
    "train_df.shape (8000, 14)\n",
    "test_df.shape (2000, 14)"
   ]
  },
  {
   "cell_type": "markdown",
   "id": "912448be",
   "metadata": {},
   "source": [
    "### Feature engineering"
   ]
  },
  {
   "cell_type": "code",
   "execution_count": 4,
   "id": "248bb4d8",
   "metadata": {},
   "outputs": [
    {
     "data": {
      "image/png": "[encoded data removed]",
      "text/plain": [
       "<Figure size 432x288 with 1 Axes>"
      ]
     },
     "metadata": {
      "needs_background": "light"
     },
     "output_type": "display_data"
    }
   ],
   "source": [
    "train_new = train_o\n",
    "train_new['TenureByAge'] = train_o.Tenure/(train_o.Age)\n",
    "sns.boxplot(y='TenureByAge',x = 'Exited', hue = 'Exited',data = train_new)\n",
    "test_new = test_o\n",
    "test_new['TenureByAge'] = test_o.Tenure/(test_o.Age)"
   ]
  },
  {
   "cell_type": "code",
   "execution_count": 5,
   "id": "2734674d",
   "metadata": {},
   "outputs": [
    {
     "data": {
      "image/png": "[encoded data removed]",
      "text/plain": [
       "<Figure size 432x288 with 1 Axes>"
      ]
     },
     "metadata": {
      "needs_background": "light"
     },
     "output_type": "display_data"
    }
   ],
   "source": [
    "train_new['BalanceSalaryRatio'] = train_new.Balance/train_new.EstimatedSalary\n",
    "sns.boxplot(y='BalanceSalaryRatio',x = 'Exited', hue = 'Exited',data = train_new)\n",
    "test_new['BalanceSalaryRatio'] = test_new.Balance/test_new.EstimatedSalary"
   ]
  },
  {
   "cell_type": "code",
   "execution_count": 6,
   "id": "7e4b9727",
   "metadata": {},
   "outputs": [],
   "source": [
    "train_new['CreditScoreGivenAge'] = train_new.CreditScore/(train_new.Age)\n",
    "test_new['CreditScoreGivenAge'] = test_new.CreditScore/(test_new.Age)"
   ]
  },
  {
   "cell_type": "markdown",
   "id": "102c9c45",
   "metadata": {},
   "source": [
    "### Data preprocess"
   ]
  },
  {
   "cell_type": "code",
   "execution_count": 8,
   "id": "e97cb17c",
   "metadata": {},
   "outputs": [],
   "source": [
    "train_pre = preprocess(train_new)\n",
    "test_pre = preprocess(test_new)"
   ]
  },
  {
   "cell_type": "code",
   "execution_count": 9,
   "id": "63d85d72",
   "metadata": {},
   "outputs": [],
   "source": [
    "order = ['CreditScore','Age','Tenure','Balance','NumOfProducts','EstimatedSalary','TenureByAge','BalanceSalaryRatio','CreditScoreGivenAge','HasCrCard','IsActiveMember','Geography_France','Geography_Spain','Geography_Germany','Gender_Female','Gender_Male']\n",
    "test_pre = test_pre[order]"
   ]
  },
  {
   "cell_type": "code",
   "execution_count": 10,
   "id": "5c18698a",
   "metadata": {},
   "outputs": [
    {
     "data": {
      "text/html": [
       "<div>\n",
       "<style scoped>\n",
       "    .dataframe tbody tr th:only-of-type {\n",
       "        vertical-align: middle;\n",
       "    }\n",
       "\n",
       "    .dataframe tbody tr th {\n",
       "        vertical-align: top;\n",
       "    }\n",
       "\n",
       "    .dataframe thead th {\n",
       "        text-align: right;\n",
       "    }\n",
       "</style>\n",
       "<table border=\"1\" class=\"dataframe\">\n",
       "  <thead>\n",
       "    <tr style=\"text-align: right;\">\n",
       "      <th></th>\n",
       "      <th>Exited</th>\n",
       "      <th>CreditScore</th>\n",
       "      <th>Age</th>\n",
       "      <th>Tenure</th>\n",
       "      <th>Balance</th>\n",
       "      <th>NumOfProducts</th>\n",
       "      <th>EstimatedSalary</th>\n",
       "      <th>TenureByAge</th>\n",
       "      <th>BalanceSalaryRatio</th>\n",
       "      <th>CreditScoreGivenAge</th>\n",
       "      <th>HasCrCard</th>\n",
       "      <th>IsActiveMember</th>\n",
       "      <th>Geography_Spain</th>\n",
       "      <th>Geography_France</th>\n",
       "      <th>Geography_Germany</th>\n",
       "      <th>Gender_Male</th>\n",
       "      <th>Gender_Female</th>\n",
       "    </tr>\n",
       "  </thead>\n",
       "  <tbody>\n",
       "    <tr>\n",
       "      <th>0</th>\n",
       "      <td>0</td>\n",
       "      <td>0.885017</td>\n",
       "      <td>0.256410</td>\n",
       "      <td>0.6</td>\n",
       "      <td>0.409621</td>\n",
       "      <td>0.5</td>\n",
       "      <td>0.589163</td>\n",
       "      <td>0.456140</td>\n",
       "      <td>0.257297</td>\n",
       "      <td>0.576447</td>\n",
       "      <td>-1</td>\n",
       "      <td>1</td>\n",
       "      <td>1</td>\n",
       "      <td>-1</td>\n",
       "      <td>-1</td>\n",
       "      <td>1</td>\n",
       "      <td>-1</td>\n",
       "    </tr>\n",
       "    <tr>\n",
       "      <th>1</th>\n",
       "      <td>0</td>\n",
       "      <td>0.717770</td>\n",
       "      <td>0.076923</td>\n",
       "      <td>0.6</td>\n",
       "      <td>0.456025</td>\n",
       "      <td>0.0</td>\n",
       "      <td>0.887514</td>\n",
       "      <td>0.592593</td>\n",
       "      <td>0.191905</td>\n",
       "      <td>0.724644</td>\n",
       "      <td>1</td>\n",
       "      <td>1</td>\n",
       "      <td>-1</td>\n",
       "      <td>1</td>\n",
       "      <td>-1</td>\n",
       "      <td>-1</td>\n",
       "      <td>1</td>\n",
       "    </tr>\n",
       "    <tr>\n",
       "      <th>2</th>\n",
       "      <td>0</td>\n",
       "      <td>0.439024</td>\n",
       "      <td>0.307692</td>\n",
       "      <td>0.4</td>\n",
       "      <td>0.331954</td>\n",
       "      <td>0.0</td>\n",
       "      <td>0.627770</td>\n",
       "      <td>0.311111</td>\n",
       "      <td>0.207795</td>\n",
       "      <td>0.351315</td>\n",
       "      <td>1</td>\n",
       "      <td>-1</td>\n",
       "      <td>1</td>\n",
       "      <td>-1</td>\n",
       "      <td>-1</td>\n",
       "      <td>-1</td>\n",
       "      <td>1</td>\n",
       "    </tr>\n",
       "    <tr>\n",
       "      <th>3</th>\n",
       "      <td>0</td>\n",
       "      <td>1.000000</td>\n",
       "      <td>0.358974</td>\n",
       "      <td>0.6</td>\n",
       "      <td>0.459864</td>\n",
       "      <td>0.0</td>\n",
       "      <td>0.810459</td>\n",
       "      <td>0.398589</td>\n",
       "      <td>0.212810</td>\n",
       "      <td>0.521144</td>\n",
       "      <td>-1</td>\n",
       "      <td>1</td>\n",
       "      <td>1</td>\n",
       "      <td>-1</td>\n",
       "      <td>-1</td>\n",
       "      <td>1</td>\n",
       "      <td>-1</td>\n",
       "    </tr>\n",
       "    <tr>\n",
       "      <th>4</th>\n",
       "      <td>0</td>\n",
       "      <td>0.379791</td>\n",
       "      <td>0.358974</td>\n",
       "      <td>0.6</td>\n",
       "      <td>0.333659</td>\n",
       "      <td>0.0</td>\n",
       "      <td>0.166188</td>\n",
       "      <td>0.398589</td>\n",
       "      <td>0.421904</td>\n",
       "      <td>0.291086</td>\n",
       "      <td>1</td>\n",
       "      <td>1</td>\n",
       "      <td>-1</td>\n",
       "      <td>1</td>\n",
       "      <td>-1</td>\n",
       "      <td>-1</td>\n",
       "      <td>1</td>\n",
       "    </tr>\n",
       "  </tbody>\n",
       "</table>\n",
       "</div>"
      ],
      "text/plain": [
       "   Exited  CreditScore       Age  Tenure   Balance  NumOfProducts  \\\n",
       "0       0     0.885017  0.256410     0.6  0.409621            0.5   \n",
       "1       0     0.717770  0.076923     0.6  0.456025            0.0   \n",
       "2       0     0.439024  0.307692     0.4  0.331954            0.0   \n",
       "3       0     1.000000  0.358974     0.6  0.459864            0.0   \n",
       "4       0     0.379791  0.358974     0.6  0.333659            0.0   \n",
       "\n",
       "   EstimatedSalary  TenureByAge  BalanceSalaryRatio  CreditScoreGivenAge  \\\n",
       "0         0.589163     0.456140            0.257297             0.576447   \n",
       "1         0.887514     0.592593            0.191905             0.724644   \n",
       "2         0.627770     0.311111            0.207795             0.351315   \n",
       "3         0.810459     0.398589            0.212810             0.521144   \n",
       "4         0.166188     0.398589            0.421904             0.291086   \n",
       "\n",
       "   HasCrCard  IsActiveMember  Geography_Spain  Geography_France  \\\n",
       "0         -1               1                1                -1   \n",
       "1          1               1               -1                 1   \n",
       "2          1              -1                1                -1   \n",
       "3         -1               1                1                -1   \n",
       "4          1               1               -1                 1   \n",
       "\n",
       "   Geography_Germany  Gender_Male  Gender_Female  \n",
       "0                 -1            1             -1  \n",
       "1                 -1           -1              1  \n",
       "2                 -1           -1              1  \n",
       "3                 -1            1             -1  \n",
       "4                 -1           -1              1  "
      ]
     },
     "execution_count": 10,
     "metadata": {},
     "output_type": "execute_result"
    }
   ],
   "source": [
    "train_pre.head()"
   ]
  },
  {
   "cell_type": "code",
   "execution_count": 11,
   "id": "794e37f4",
   "metadata": {},
   "outputs": [],
   "source": [
    "train_pre.to_csv('train_nf_preprocess.csv')\n",
    "test_pre.to_csv('test_nf_preprocess.csv')"
   ]
  }
 ],
 "metadata": {
  "kernelspec": {
   "display_name": "Python 3 (ipykernel)",
   "language": "python",
   "name": "python3"
  },
  "language_info": {
   "codemirror_mode": {
    "name": "ipython",
    "version": 3
   },
   "file_extension": ".py",
   "mimetype": "text/x-python",
   "name": "python",
   "nbconvert_exporter": "python",
   "pygments_lexer": "ipython3",
   "version": "3.9.12"
  }
 },
 "nbformat": 4,
 "nbformat_minor": 5
}
