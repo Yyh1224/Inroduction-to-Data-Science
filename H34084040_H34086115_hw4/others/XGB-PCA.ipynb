{
 "cells": [
  {
   "cell_type": "markdown",
   "id": "60f1d036",
   "metadata": {},
   "source": [
    "### Load Preprocess Data"
   ]
  },
  {
   "cell_type": "code",
   "execution_count": 1,
   "id": "dcbd0d89",
   "metadata": {},
   "outputs": [],
   "source": [
    "import numpy as np\n",
    "import pandas as pd\n",
    "from xgboost import XGBClassifier\n",
    "from modeling_ML import*\n",
    "from sklearn.decomposition import PCA\n",
    "train = pd.read_csv('train_nf_preprocess.csv')\n",
    "test = pd.read_csv('test_nf_preprocess.csv')"
   ]
  },
  {
   "cell_type": "code",
   "execution_count": 2,
   "id": "3864fbfe",
   "metadata": {},
   "outputs": [],
   "source": [
    "# X_train, X_test, y_train, y_test,test = prep_split(train,test)"
   ]
  },
  {
   "cell_type": "code",
   "execution_count": 3,
   "id": "29d018d7",
   "metadata": {},
   "outputs": [],
   "source": [
    "train = train.drop(['Unnamed: 0'],axis=1)\n",
    "test = test.drop(['Unnamed: 0'],axis=1)\n",
    "x = train.loc[:, train.columns != 'Exited']\n",
    "y = train.Exited"
   ]
  },
  {
   "cell_type": "markdown",
   "id": "6fdfbf49",
   "metadata": {},
   "source": [
    "train_df.shape (8000, 14)\n",
    "test_df.shape (2000, 14)"
   ]
  },
  {
   "cell_type": "code",
   "execution_count": 4,
   "id": "5256e589",
   "metadata": {},
   "outputs": [],
   "source": [
    "from hw4_library import*\n",
    "# Support functions\n",
    "from sklearn.preprocessing import PolynomialFeatures\n",
    "from sklearn.model_selection import cross_val_score\n",
    "from sklearn.model_selection import GridSearchCV\n",
    "from scipy.stats import uniform"
   ]
  },
  {
   "cell_type": "markdown",
   "id": "cad0f950",
   "metadata": {},
   "source": [
    "### PCA"
   ]
  },
  {
   "cell_type": "code",
   "execution_count": 5,
   "id": "3c3043f9",
   "metadata": {},
   "outputs": [
    {
     "data": {
      "text/plain": [
       "(8000, 1)"
      ]
     },
     "execution_count": 5,
     "metadata": {},
     "output_type": "execute_result"
    }
   ],
   "source": [
    "x_array=np.array(x)\n",
    "pca = PCA(n_components=1)\n",
    "pca.fit(x_array)\n",
    "x_pca = pca.transform(x_array)\n",
    "x_pca.shape"
   ]
  },
  {
   "cell_type": "markdown",
   "id": "d1b576d0",
   "metadata": {},
   "source": [
    "### XGB model as example"
   ]
  },
  {
   "cell_type": "code",
   "execution_count": 6,
   "id": "de7e7259",
   "metadata": {},
   "outputs": [
    {
     "name": "stdout",
     "output_type": "stream",
     "text": [
      "0.794625\n",
      "{'gamma': 0.01, 'learning_rate': 0.2, 'max_depth': 6, 'min_child_weight': 1, 'n_estimators': 20}\n",
      "XGBClassifier(base_score=0.5, booster='gbtree', callbacks=None,\n",
      "              colsample_bylevel=1, colsample_bynode=1, colsample_bytree=1,\n",
      "              early_stopping_rounds=None, enable_categorical=False,\n",
      "              eval_metric=None, feature_types=None, gamma=0.01, gpu_id=-1,\n",
      "              grow_policy='depthwise', importance_type=None,\n",
      "              interaction_constraints='', learning_rate=0.2, max_bin=256,\n",
      "              max_cat_threshold=64, max_cat_to_onehot=4, max_delta_step=0,\n",
      "              max_depth=6, max_leaves=0, min_child_weight=1, missing=nan,\n",
      "              monotone_constraints='()', n_estimators=20, n_jobs=0,\n",
      "              num_parallel_tree=1, predictor='auto', random_state=0, ...)\n"
     ]
    },
    {
     "data": {
      "text/plain": [
       "XGBClassifier(base_score=0.5, booster='gbtree', callbacks=None,\n",
       "              colsample_bylevel=1, colsample_bynode=1, colsample_bytree=1,\n",
       "              early_stopping_rounds=None, enable_categorical=False,\n",
       "              eval_metric=None, feature_types=None, gamma=0.01, gpu_id=-1,\n",
       "              grow_policy='depthwise', importance_type=None,\n",
       "              interaction_constraints='', learning_rate=0.2, max_bin=256,\n",
       "              max_cat_threshold=64, max_cat_to_onehot=4, max_delta_step=0,\n",
       "              max_depth=6, max_leaves=0, min_child_weight=1, missing=nan,\n",
       "              monotone_constraints='()', n_estimators=20, n_jobs=0,\n",
       "              num_parallel_tree=1, predictor='auto', random_state=0, ...)"
      ]
     },
     "execution_count": 6,
     "metadata": {},
     "output_type": "execute_result"
    }
   ],
   "source": [
    "# Fit Extreme Gradient boosting classifier\n",
    "param_grid = {'max_depth': [5,6,7,8], 'gamma': [0.01,0.001,0.001],'min_child_weight':[1,5,10], 'learning_rate': [0.05,0.1, 0.2, 0.3], 'n_estimators':[5,10,20,100]}\n",
    "xgb_grid = GridSearchCV(XGBClassifier(), param_grid, cv=5, refit=True, verbose=0)\n",
    "xgb_grid.fit(x_pca,y)\n",
    "best_model(xgb_grid)"
   ]
  },
  {
   "cell_type": "code",
   "execution_count": 7,
   "id": "eb40e482",
   "metadata": {},
   "outputs": [
    {
     "name": "stdout",
     "output_type": "stream",
     "text": [
      "0.794625\n",
      "{'gamma': 0.01, 'learning_rate': 0.2, 'max_depth': 6, 'min_child_weight': 1, 'n_estimators': 20}\n",
      "XGBClassifier(base_score=0.5, booster='gbtree', callbacks=None,\n",
      "              colsample_bylevel=1, colsample_bynode=1, colsample_bytree=1,\n",
      "              early_stopping_rounds=None, enable_categorical=False,\n",
      "              eval_metric=None, feature_types=None, gamma=0.01, gpu_id=-1,\n",
      "              grow_policy='depthwise', importance_type=None,\n",
      "              interaction_constraints='', learning_rate=0.2, max_bin=256,\n",
      "              max_cat_threshold=64, max_cat_to_onehot=4, max_delta_step=0,\n",
      "              max_depth=6, max_leaves=0, min_child_weight=1, missing=nan,\n",
      "              monotone_constraints='()', n_estimators=20, n_jobs=0,\n",
      "              num_parallel_tree=1, predictor='auto', random_state=0, ...)\n"
     ]
    },
    {
     "data": {
      "text/plain": [
       "XGBClassifier(base_score=0.5, booster='gbtree', callbacks=None,\n",
       "              colsample_bylevel=1, colsample_bynode=1, colsample_bytree=1,\n",
       "              early_stopping_rounds=None, enable_categorical=False,\n",
       "              eval_metric=None, feature_types=None, gamma=0.01, gpu_id=-1,\n",
       "              grow_policy='depthwise', importance_type=None,\n",
       "              interaction_constraints='', learning_rate=0.2, max_bin=256,\n",
       "              max_cat_threshold=64, max_cat_to_onehot=4, max_delta_step=0,\n",
       "              max_depth=6, max_leaves=0, min_child_weight=1, missing=nan,\n",
       "              monotone_constraints='()', n_estimators=20, n_jobs=0,\n",
       "              num_parallel_tree=1, predictor='auto', random_state=0, ...)"
      ]
     },
     "execution_count": 7,
     "metadata": {},
     "output_type": "execute_result"
    }
   ],
   "source": [
    "n = best_model(xgb_grid)\n",
    "# Fit Extreme Gradient Boost Classifier\n",
    "XGB = n\n",
    "XGB.fit(x_pca,y)"
   ]
  },
  {
   "cell_type": "code",
   "execution_count": 8,
   "id": "f061a0ce",
   "metadata": {},
   "outputs": [],
   "source": [
    "# print(classification_report(y_test, XGB.predict(X_test)))"
   ]
  },
  {
   "cell_type": "code",
   "execution_count": 9,
   "id": "6828fa9c",
   "metadata": {},
   "outputs": [
    {
     "data": {
      "text/html": [
       "<div>\n",
       "<style scoped>\n",
       "    .dataframe tbody tr th:only-of-type {\n",
       "        vertical-align: middle;\n",
       "    }\n",
       "\n",
       "    .dataframe tbody tr th {\n",
       "        vertical-align: top;\n",
       "    }\n",
       "\n",
       "    .dataframe thead th {\n",
       "        text-align: right;\n",
       "    }\n",
       "</style>\n",
       "<table border=\"1\" class=\"dataframe\">\n",
       "  <thead>\n",
       "    <tr style=\"text-align: right;\">\n",
       "      <th></th>\n",
       "      <th>CreditScore</th>\n",
       "      <th>Age</th>\n",
       "      <th>Tenure</th>\n",
       "      <th>Balance</th>\n",
       "      <th>NumOfProducts</th>\n",
       "      <th>EstimatedSalary</th>\n",
       "      <th>TenureByAge</th>\n",
       "      <th>BalanceSalaryRatio</th>\n",
       "      <th>CreditScoreGivenAge</th>\n",
       "      <th>HasCrCard</th>\n",
       "      <th>IsActiveMember</th>\n",
       "      <th>Geography_Spain</th>\n",
       "      <th>Geography_France</th>\n",
       "      <th>Geography_Germany</th>\n",
       "      <th>Gender_Male</th>\n",
       "      <th>Gender_Female</th>\n",
       "    </tr>\n",
       "  </thead>\n",
       "  <tbody>\n",
       "    <tr>\n",
       "      <th>0</th>\n",
       "      <td>0.892508</td>\n",
       "      <td>0.188679</td>\n",
       "      <td>0.6</td>\n",
       "      <td>0.409621</td>\n",
       "      <td>0.333333</td>\n",
       "      <td>0.589163</td>\n",
       "      <td>0.463158</td>\n",
       "      <td>0.257297</td>\n",
       "      <td>0.595089</td>\n",
       "      <td>-1</td>\n",
       "      <td>1</td>\n",
       "      <td>1</td>\n",
       "      <td>-1</td>\n",
       "      <td>-1</td>\n",
       "      <td>1</td>\n",
       "      <td>-1</td>\n",
       "    </tr>\n",
       "    <tr>\n",
       "      <th>1</th>\n",
       "      <td>0.768730</td>\n",
       "      <td>0.490566</td>\n",
       "      <td>0.4</td>\n",
       "      <td>0.000000</td>\n",
       "      <td>0.000000</td>\n",
       "      <td>0.654032</td>\n",
       "      <td>0.202469</td>\n",
       "      <td>0.047066</td>\n",
       "      <td>0.267236</td>\n",
       "      <td>1</td>\n",
       "      <td>-1</td>\n",
       "      <td>-1</td>\n",
       "      <td>1</td>\n",
       "      <td>-1</td>\n",
       "      <td>-1</td>\n",
       "      <td>1</td>\n",
       "    </tr>\n",
       "    <tr>\n",
       "      <th>2</th>\n",
       "      <td>0.736156</td>\n",
       "      <td>0.056604</td>\n",
       "      <td>0.6</td>\n",
       "      <td>0.456025</td>\n",
       "      <td>0.000000</td>\n",
       "      <td>0.887514</td>\n",
       "      <td>0.597849</td>\n",
       "      <td>0.191905</td>\n",
       "      <td>0.736763</td>\n",
       "      <td>1</td>\n",
       "      <td>1</td>\n",
       "      <td>-1</td>\n",
       "      <td>1</td>\n",
       "      <td>-1</td>\n",
       "      <td>-1</td>\n",
       "      <td>1</td>\n",
       "    </tr>\n",
       "    <tr>\n",
       "      <th>3</th>\n",
       "      <td>0.475570</td>\n",
       "      <td>0.226415</td>\n",
       "      <td>0.4</td>\n",
       "      <td>0.331954</td>\n",
       "      <td>0.000000</td>\n",
       "      <td>0.627770</td>\n",
       "      <td>0.320000</td>\n",
       "      <td>0.207795</td>\n",
       "      <td>0.379865</td>\n",
       "      <td>1</td>\n",
       "      <td>-1</td>\n",
       "      <td>1</td>\n",
       "      <td>-1</td>\n",
       "      <td>-1</td>\n",
       "      <td>-1</td>\n",
       "      <td>1</td>\n",
       "    </tr>\n",
       "    <tr>\n",
       "      <th>4</th>\n",
       "      <td>1.000000</td>\n",
       "      <td>0.264151</td>\n",
       "      <td>0.6</td>\n",
       "      <td>0.459864</td>\n",
       "      <td>0.000000</td>\n",
       "      <td>0.810459</td>\n",
       "      <td>0.406349</td>\n",
       "      <td>0.212810</td>\n",
       "      <td>0.542220</td>\n",
       "      <td>-1</td>\n",
       "      <td>1</td>\n",
       "      <td>1</td>\n",
       "      <td>-1</td>\n",
       "      <td>-1</td>\n",
       "      <td>1</td>\n",
       "      <td>-1</td>\n",
       "    </tr>\n",
       "  </tbody>\n",
       "</table>\n",
       "</div>"
      ],
      "text/plain": [
       "   CreditScore       Age  Tenure   Balance  NumOfProducts  EstimatedSalary  \\\n",
       "0     0.892508  0.188679     0.6  0.409621       0.333333         0.589163   \n",
       "1     0.768730  0.490566     0.4  0.000000       0.000000         0.654032   \n",
       "2     0.736156  0.056604     0.6  0.456025       0.000000         0.887514   \n",
       "3     0.475570  0.226415     0.4  0.331954       0.000000         0.627770   \n",
       "4     1.000000  0.264151     0.6  0.459864       0.000000         0.810459   \n",
       "\n",
       "   TenureByAge  BalanceSalaryRatio  CreditScoreGivenAge  HasCrCard  \\\n",
       "0     0.463158            0.257297             0.595089         -1   \n",
       "1     0.202469            0.047066             0.267236          1   \n",
       "2     0.597849            0.191905             0.736763          1   \n",
       "3     0.320000            0.207795             0.379865          1   \n",
       "4     0.406349            0.212810             0.542220         -1   \n",
       "\n",
       "   IsActiveMember  Geography_Spain  Geography_France  Geography_Germany  \\\n",
       "0               1                1                -1                 -1   \n",
       "1              -1               -1                 1                 -1   \n",
       "2               1               -1                 1                 -1   \n",
       "3              -1                1                -1                 -1   \n",
       "4               1                1                -1                 -1   \n",
       "\n",
       "   Gender_Male  Gender_Female  \n",
       "0            1             -1  \n",
       "1           -1              1  \n",
       "2           -1              1  \n",
       "3           -1              1  \n",
       "4            1             -1  "
      ]
     },
     "execution_count": 9,
     "metadata": {},
     "output_type": "execute_result"
    }
   ],
   "source": [
    "x.head()"
   ]
  },
  {
   "cell_type": "code",
   "execution_count": 10,
   "id": "a5d1ecef",
   "metadata": {},
   "outputs": [
    {
     "data": {
      "text/html": [
       "<div>\n",
       "<style scoped>\n",
       "    .dataframe tbody tr th:only-of-type {\n",
       "        vertical-align: middle;\n",
       "    }\n",
       "\n",
       "    .dataframe tbody tr th {\n",
       "        vertical-align: top;\n",
       "    }\n",
       "\n",
       "    .dataframe thead th {\n",
       "        text-align: right;\n",
       "    }\n",
       "</style>\n",
       "<table border=\"1\" class=\"dataframe\">\n",
       "  <thead>\n",
       "    <tr style=\"text-align: right;\">\n",
       "      <th></th>\n",
       "      <th>CreditScore</th>\n",
       "      <th>Age</th>\n",
       "      <th>Tenure</th>\n",
       "      <th>Balance</th>\n",
       "      <th>NumOfProducts</th>\n",
       "      <th>EstimatedSalary</th>\n",
       "      <th>TenureByAge</th>\n",
       "      <th>BalanceSalaryRatio</th>\n",
       "      <th>CreditScoreGivenAge</th>\n",
       "      <th>HasCrCard</th>\n",
       "      <th>IsActiveMember</th>\n",
       "      <th>Geography_France</th>\n",
       "      <th>Geography_Spain</th>\n",
       "      <th>Geography_Germany</th>\n",
       "      <th>Gender_Female</th>\n",
       "      <th>Gender_Male</th>\n",
       "    </tr>\n",
       "  </thead>\n",
       "  <tbody>\n",
       "    <tr>\n",
       "      <th>0</th>\n",
       "      <td>0.912052</td>\n",
       "      <td>0.22</td>\n",
       "      <td>0.2</td>\n",
       "      <td>0.000000</td>\n",
       "      <td>0.000000</td>\n",
       "      <td>0.572521</td>\n",
       "      <td>0.221154</td>\n",
       "      <td>0.067505</td>\n",
       "      <td>0.633888</td>\n",
       "      <td>-1</td>\n",
       "      <td>-1</td>\n",
       "      <td>1</td>\n",
       "      <td>-1</td>\n",
       "      <td>-1</td>\n",
       "      <td>1</td>\n",
       "      <td>-1</td>\n",
       "    </tr>\n",
       "    <tr>\n",
       "      <th>1</th>\n",
       "      <td>0.700326</td>\n",
       "      <td>0.28</td>\n",
       "      <td>0.2</td>\n",
       "      <td>0.608183</td>\n",
       "      <td>0.000000</td>\n",
       "      <td>0.804225</td>\n",
       "      <td>0.196429</td>\n",
       "      <td>0.269989</td>\n",
       "      <td>0.484251</td>\n",
       "      <td>1</td>\n",
       "      <td>-1</td>\n",
       "      <td>1</td>\n",
       "      <td>-1</td>\n",
       "      <td>-1</td>\n",
       "      <td>-1</td>\n",
       "      <td>1</td>\n",
       "    </tr>\n",
       "    <tr>\n",
       "      <th>2</th>\n",
       "      <td>0.322476</td>\n",
       "      <td>0.12</td>\n",
       "      <td>0.8</td>\n",
       "      <td>0.000000</td>\n",
       "      <td>0.333333</td>\n",
       "      <td>0.244890</td>\n",
       "      <td>0.669118</td>\n",
       "      <td>0.161560</td>\n",
       "      <td>0.499402</td>\n",
       "      <td>1</td>\n",
       "      <td>1</td>\n",
       "      <td>1</td>\n",
       "      <td>-1</td>\n",
       "      <td>-1</td>\n",
       "      <td>-1</td>\n",
       "      <td>1</td>\n",
       "    </tr>\n",
       "    <tr>\n",
       "      <th>3</th>\n",
       "      <td>0.928339</td>\n",
       "      <td>0.28</td>\n",
       "      <td>0.2</td>\n",
       "      <td>0.217697</td>\n",
       "      <td>0.000000</td>\n",
       "      <td>0.925166</td>\n",
       "      <td>0.196429</td>\n",
       "      <td>0.089912</td>\n",
       "      <td>0.570928</td>\n",
       "      <td>1</td>\n",
       "      <td>-1</td>\n",
       "      <td>-1</td>\n",
       "      <td>1</td>\n",
       "      <td>-1</td>\n",
       "      <td>1</td>\n",
       "      <td>-1</td>\n",
       "    </tr>\n",
       "    <tr>\n",
       "      <th>4</th>\n",
       "      <td>0.283388</td>\n",
       "      <td>0.44</td>\n",
       "      <td>0.8</td>\n",
       "      <td>0.000000</td>\n",
       "      <td>0.000000</td>\n",
       "      <td>0.915482</td>\n",
       "      <td>0.415000</td>\n",
       "      <td>0.010434</td>\n",
       "      <td>0.220159</td>\n",
       "      <td>1</td>\n",
       "      <td>1</td>\n",
       "      <td>1</td>\n",
       "      <td>-1</td>\n",
       "      <td>-1</td>\n",
       "      <td>1</td>\n",
       "      <td>-1</td>\n",
       "    </tr>\n",
       "  </tbody>\n",
       "</table>\n",
       "</div>"
      ],
      "text/plain": [
       "   CreditScore   Age  Tenure   Balance  NumOfProducts  EstimatedSalary  \\\n",
       "0     0.912052  0.22     0.2  0.000000       0.000000         0.572521   \n",
       "1     0.700326  0.28     0.2  0.608183       0.000000         0.804225   \n",
       "2     0.322476  0.12     0.8  0.000000       0.333333         0.244890   \n",
       "3     0.928339  0.28     0.2  0.217697       0.000000         0.925166   \n",
       "4     0.283388  0.44     0.8  0.000000       0.000000         0.915482   \n",
       "\n",
       "   TenureByAge  BalanceSalaryRatio  CreditScoreGivenAge  HasCrCard  \\\n",
       "0     0.221154            0.067505             0.633888         -1   \n",
       "1     0.196429            0.269989             0.484251          1   \n",
       "2     0.669118            0.161560             0.499402          1   \n",
       "3     0.196429            0.089912             0.570928          1   \n",
       "4     0.415000            0.010434             0.220159          1   \n",
       "\n",
       "   IsActiveMember  Geography_France  Geography_Spain  Geography_Germany  \\\n",
       "0              -1                 1               -1                 -1   \n",
       "1              -1                 1               -1                 -1   \n",
       "2               1                 1               -1                 -1   \n",
       "3              -1                -1                1                 -1   \n",
       "4               1                 1               -1                 -1   \n",
       "\n",
       "   Gender_Female  Gender_Male  \n",
       "0              1           -1  \n",
       "1             -1            1  \n",
       "2             -1            1  \n",
       "3              1           -1  \n",
       "4              1           -1  "
      ]
     },
     "execution_count": 10,
     "metadata": {},
     "output_type": "execute_result"
    }
   ],
   "source": [
    "test.head()"
   ]
  },
  {
   "cell_type": "code",
   "execution_count": 11,
   "id": "47033784",
   "metadata": {},
   "outputs": [
    {
     "data": {
      "text/plain": [
       "(2000, 1)"
      ]
     },
     "execution_count": 11,
     "metadata": {},
     "output_type": "execute_result"
    }
   ],
   "source": [
    "#PCA\n",
    "test_array=np.array(test)\n",
    "pca = PCA(n_components=1)\n",
    "pca.fit(test_array)\n",
    "pca_test = pca.transform(test_array)\n",
    "pca_test.shape"
   ]
  },
  {
   "cell_type": "code",
   "execution_count": 12,
   "id": "bd6d9313",
   "metadata": {
    "scrolled": true
   },
   "outputs": [],
   "source": [
    "y_pred = XGB.predict(pca_test)"
   ]
  },
  {
   "cell_type": "markdown",
   "id": "f39999ad",
   "metadata": {},
   "source": [
    "### save prediction result"
   ]
  },
  {
   "cell_type": "code",
   "execution_count": 13,
   "id": "511f8070",
   "metadata": {},
   "outputs": [],
   "source": [
    "df = pd.DataFrame(y_pred)"
   ]
  },
  {
   "cell_type": "code",
   "execution_count": 14,
   "id": "68408e9f",
   "metadata": {},
   "outputs": [],
   "source": [
    "testing= pd.read_csv('test.csv')"
   ]
  },
  {
   "cell_type": "code",
   "execution_count": 15,
   "id": "7dd2c9f8",
   "metadata": {},
   "outputs": [],
   "source": [
    "res = pd.concat([testing['RowNumber'],df],axis=1)\n",
    "res = res.rename(columns={0: 'Exited'})\n",
    "res.to_csv('result_pca.csv')"
   ]
  }
 ],
 "metadata": {
  "kernelspec": {
   "display_name": "Python 3 (ipykernel)",
   "language": "python",
   "name": "python3"
  },
  "language_info": {
   "codemirror_mode": {
    "name": "ipython",
    "version": 3
   },
   "file_extension": ".py",
   "mimetype": "text/x-python",
   "name": "python",
   "nbconvert_exporter": "python",
   "pygments_lexer": "ipython3",
   "version": "3.9.12"
  }
 },
 "nbformat": 4,
 "nbformat_minor": 5
}
