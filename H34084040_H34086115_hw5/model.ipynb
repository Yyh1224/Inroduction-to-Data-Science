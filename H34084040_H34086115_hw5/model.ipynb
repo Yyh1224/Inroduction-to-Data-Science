{
 "cells": [
  {
   "cell_type": "markdown",
   "id": "66ab1ff8",
   "metadata": {},
   "source": [
    "### load library"
   ]
  },
  {
   "cell_type": "code",
   "execution_count": 1,
   "id": "ce78cb9f",
   "metadata": {},
   "outputs": [],
   "source": [
    "import wordcloud\n",
    "import nltk\n",
    "import pandas as pd\n",
    "import numpy as np\n",
    "from matplotlib import pyplot as plt\n",
    "import seaborn as sns\n",
    "# NLP\n",
    "from nltk.tokenize import word_tokenize\n",
    "from nltk.corpus import stopwords\n",
    "from nltk.stem import PorterStemmer\n",
    "from wordcloud import WordCloud, STOPWORDS\n",
    "import re"
   ]
  },
  {
   "cell_type": "markdown",
   "id": "922025a9",
   "metadata": {},
   "source": [
    "### load data"
   ]
  },
  {
   "cell_type": "code",
   "execution_count": 2,
   "id": "bc07924c",
   "metadata": {},
   "outputs": [],
   "source": [
    "train_set = pd.read_csv('train.csv')\n",
    "test_set = pd.read_csv('test.csv')"
   ]
  },
  {
   "cell_type": "code",
   "execution_count": 3,
   "id": "604e5a6a",
   "metadata": {
    "scrolled": true
   },
   "outputs": [
    {
     "name": "stderr",
     "output_type": "stream",
     "text": [
      "C:\\Users\\yuanhsu\\AppData\\Local\\Temp\\ipykernel_8296\\2964910558.py:5: FutureWarning: The default value of regex will change from True to False in a future version.\n",
      "  train_set['tweet'] = train_set['tweet'].str.replace('\\d','')\n",
      "C:\\Users\\yuanhsu\\AppData\\Local\\Temp\\ipykernel_8296\\2964910558.py:6: FutureWarning: The default value of regex will change from True to False in a future version.\n",
      "  test_set['tweet'] = test_set['tweet'].str.replace('\\d','')\n"
     ]
    },
    {
     "name": "stdout",
     "output_type": "stream",
     "text": [
      "Requirement already satisfied: textblob in c:\\users\\yuanhsu\\anaconda3\\lib\\site-packages (0.17.1)\n",
      "Requirement already satisfied: nltk>=3.1 in c:\\users\\yuanhsu\\anaconda3\\lib\\site-packages (from textblob) (3.7)\n",
      "Requirement already satisfied: regex>=2021.8.3 in c:\\users\\yuanhsu\\anaconda3\\lib\\site-packages (from nltk>=3.1->textblob) (2022.3.15)\n",
      "Requirement already satisfied: click in c:\\users\\yuanhsu\\anaconda3\\lib\\site-packages (from nltk>=3.1->textblob) (8.0.4)\n",
      "Requirement already satisfied: joblib in c:\\users\\yuanhsu\\anaconda3\\lib\\site-packages (from nltk>=3.1->textblob) (1.1.0)\n",
      "Requirement already satisfied: tqdm in c:\\users\\yuanhsu\\anaconda3\\lib\\site-packages (from nltk>=3.1->textblob) (4.64.0)\n",
      "Requirement already satisfied: colorama in c:\\users\\yuanhsu\\anaconda3\\lib\\site-packages (from click->nltk>=3.1->textblob) (0.4.4)\n"
     ]
    },
    {
     "name": "stderr",
     "output_type": "stream",
     "text": [
      "[nltk_data] Downloading package wordnet to\n",
      "[nltk_data]     C:\\Users\\yuanhsu\\AppData\\Roaming\\nltk_data...\n",
      "[nltk_data]   Package wordnet is already up-to-date!\n"
     ]
    }
   ],
   "source": [
    "#uppercase letters to lowercase letters\n",
    "train_set[\"tweet\"] = train_set[\"tweet\"].apply(lambda x: \" \".join(x.lower() for x in x.split()))\n",
    "test_set[\"tweet\"] = test_set[\"tweet\"].apply(lambda x: \" \".join(x.lower() for x in x.split()))\n",
    "#delete numbers from tweet\n",
    "train_set['tweet'] = train_set['tweet'].str.replace('\\d','')\n",
    "test_set['tweet'] = test_set['tweet'].str.replace('\\d','')\n",
    "#delete stopwords from tweet\n",
    "new_sw = [\"RT\", \"user\"]\n",
    "sw = stopwords.words(\"english\")\n",
    "sw.extend(new_sw)\n",
    "train_set['tweet'] = train_set['tweet'].apply(lambda x: \" \".join(x for x in x.split() if x not in sw))\n",
    "test_set['tweet'] = test_set['tweet'].apply(lambda x: \" \".join(x for x in x.split() if x not in sw))\n",
    "#lemmmatization\n",
    "!pip install textblob\n",
    "from textblob import Word\n",
    "nltk.download('wordnet')\n",
    "train_set['tweet'] = train_set['tweet'].apply(lambda x: \" \".join([Word(word).lemmatize() for word in x.split()]))\n",
    "test_set['tweet'] = test_set['tweet'].apply(lambda x: \" \".join([Word(word).lemmatize() for word in x.split()])) "
   ]
  },
  {
   "cell_type": "code",
   "execution_count": 4,
   "id": "b1812aeb",
   "metadata": {},
   "outputs": [],
   "source": [
    "# #stemmer\n",
    "# from nltk.stem import PorterStemmer\n",
    "# st = PorterStemmer ()\n",
    "# train_set['tweet'][:5].apply (lambda x: \" \".join ([st.stem(word) for word in x.split ()]))\n",
    "# test_set['tweet'][:5].apply (lambda x: \" \".join ([st.stem(word) for word in x.split ()]))"
   ]
  },
  {
   "cell_type": "markdown",
   "id": "8f8be2e6",
   "metadata": {},
   "source": [
    "### Feature Engineering"
   ]
  },
  {
   "cell_type": "code",
   "execution_count": 5,
   "id": "6751e94f",
   "metadata": {},
   "outputs": [
    {
     "data": {
      "text/html": [
       "<div>\n",
       "<style scoped>\n",
       "    .dataframe tbody tr th:only-of-type {\n",
       "        vertical-align: middle;\n",
       "    }\n",
       "\n",
       "    .dataframe tbody tr th {\n",
       "        vertical-align: top;\n",
       "    }\n",
       "\n",
       "    .dataframe thead th {\n",
       "        text-align: right;\n",
       "    }\n",
       "</style>\n",
       "<table border=\"1\" class=\"dataframe\">\n",
       "  <thead>\n",
       "    <tr style=\"text-align: right;\">\n",
       "      <th></th>\n",
       "      <th>class</th>\n",
       "      <th>tweet</th>\n",
       "      <th>tweet_length</th>\n",
       "      <th>num_hashtags</th>\n",
       "      <th>total_tags</th>\n",
       "      <th>num_punctuations</th>\n",
       "      <th>num_words</th>\n",
       "    </tr>\n",
       "  </thead>\n",
       "  <tbody>\n",
       "    <tr>\n",
       "      <th>0</th>\n",
       "      <td>1</td>\n",
       "      <td>[--] : pm \"son bitch ate mac n cheese\" http://...</td>\n",
       "      <td>58</td>\n",
       "      <td>0</td>\n",
       "      <td>0</td>\n",
       "      <td>3</td>\n",
       "      <td>10</td>\n",
       "    </tr>\n",
       "    <tr>\n",
       "      <th>1</th>\n",
       "      <td>1</td>\n",
       "      <td>rt @bryceserna: pussy grab booty. love booty. ...</td>\n",
       "      <td>63</td>\n",
       "      <td>0</td>\n",
       "      <td>1</td>\n",
       "      <td>4</td>\n",
       "      <td>9</td>\n",
       "    </tr>\n",
       "    <tr>\n",
       "      <th>2</th>\n",
       "      <td>2</td>\n",
       "      <td>rt @clicquotsuave: bunch rapper boutta flood i...</td>\n",
       "      <td>70</td>\n",
       "      <td>0</td>\n",
       "      <td>1</td>\n",
       "      <td>1</td>\n",
       "      <td>10</td>\n",
       "    </tr>\n",
       "    <tr>\n",
       "      <th>3</th>\n",
       "      <td>2</td>\n",
       "      <td>@michigannews wow. thats great language coming...</td>\n",
       "      <td>92</td>\n",
       "      <td>0</td>\n",
       "      <td>1</td>\n",
       "      <td>4</td>\n",
       "      <td>14</td>\n",
       "    </tr>\n",
       "    <tr>\n",
       "      <th>4</th>\n",
       "      <td>1</td>\n",
       "      <td>i'm single, fuck bitch attitude foh.</td>\n",
       "      <td>36</td>\n",
       "      <td>0</td>\n",
       "      <td>0</td>\n",
       "      <td>2</td>\n",
       "      <td>6</td>\n",
       "    </tr>\n",
       "  </tbody>\n",
       "</table>\n",
       "</div>"
      ],
      "text/plain": [
       "   class                                              tweet  tweet_length  \\\n",
       "0      1  [--] : pm \"son bitch ate mac n cheese\" http://...            58   \n",
       "1      1  rt @bryceserna: pussy grab booty. love booty. ...            63   \n",
       "2      2  rt @clicquotsuave: bunch rapper boutta flood i...            70   \n",
       "3      2  @michigannews wow. thats great language coming...            92   \n",
       "4      1               i'm single, fuck bitch attitude foh.            36   \n",
       "\n",
       "   num_hashtags  total_tags  num_punctuations  num_words  \n",
       "0             0           0                 3         10  \n",
       "1             0           1                 4          9  \n",
       "2             0           1                 1         10  \n",
       "3             0           1                 4         14  \n",
       "4             0           0                 2          6  "
      ]
     },
     "execution_count": 5,
     "metadata": {},
     "output_type": "execute_result"
    }
   ],
   "source": [
    "train_df_fe = train_set.copy()\n",
    "train_df_fe['tweet_length'] = train_df_fe['tweet'].str.len()\n",
    "train_df_fe['num_hashtags'] = train_df_fe['tweet'].str.count('#')\n",
    "# train_df_fe['num_exclamation_marks'] = train_df_fe['tweet'].str.count('\\!')\n",
    "# train_df_fe['num_question_marks'] = train_df_fe['tweet'].str.count('\\?')\n",
    "train_df_fe['total_tags'] = train_df_fe['tweet'].str.count('@')\n",
    "train_df_fe['num_punctuations'] = train_df_fe['tweet'].str.count('[.,:;]')\n",
    "# train_df_fe['num_question_marks'] = train_df_fe['tweet'].str.count('[*&$%]')\n",
    "train_df_fe['num_words'] = train_df_fe['tweet'].apply(lambda x: len(x.split()))\n",
    "train_df_fe.head()"
   ]
  },
  {
   "cell_type": "code",
   "execution_count": 6,
   "id": "0df150cb",
   "metadata": {},
   "outputs": [
    {
     "data": {
      "text/html": [
       "<div>\n",
       "<style scoped>\n",
       "    .dataframe tbody tr th:only-of-type {\n",
       "        vertical-align: middle;\n",
       "    }\n",
       "\n",
       "    .dataframe tbody tr th {\n",
       "        vertical-align: top;\n",
       "    }\n",
       "\n",
       "    .dataframe thead th {\n",
       "        text-align: right;\n",
       "    }\n",
       "</style>\n",
       "<table border=\"1\" class=\"dataframe\">\n",
       "  <thead>\n",
       "    <tr style=\"text-align: right;\">\n",
       "      <th></th>\n",
       "      <th>id</th>\n",
       "      <th>tweet</th>\n",
       "      <th>tweet_length</th>\n",
       "      <th>num_hashtags</th>\n",
       "      <th>total_tags</th>\n",
       "      <th>num_punctuations</th>\n",
       "      <th>num_words</th>\n",
       "    </tr>\n",
       "  </thead>\n",
       "  <tbody>\n",
       "    <tr>\n",
       "      <th>0</th>\n",
       "      <td>0</td>\n",
       "      <td>!!!!!!! rt @urkindofbrand dawg!!!! rt @sbabyli...</td>\n",
       "      <td>90</td>\n",
       "      <td>0</td>\n",
       "      <td>2</td>\n",
       "      <td>1</td>\n",
       "      <td>13</td>\n",
       "    </tr>\n",
       "    <tr>\n",
       "      <th>1</th>\n",
       "      <td>1</td>\n",
       "      <td>!!!!!!!!! rt @c_g_anderson: @viva_based look l...</td>\n",
       "      <td>56</td>\n",
       "      <td>0</td>\n",
       "      <td>2</td>\n",
       "      <td>1</td>\n",
       "      <td>7</td>\n",
       "    </tr>\n",
       "    <tr>\n",
       "      <th>2</th>\n",
       "      <td>2</td>\n",
       "      <td>!!!!!!\"@__brighterdays: sit hate another bitch...</td>\n",
       "      <td>74</td>\n",
       "      <td>0</td>\n",
       "      <td>1</td>\n",
       "      <td>3</td>\n",
       "      <td>11</td>\n",
       "    </tr>\n",
       "    <tr>\n",
       "      <th>3</th>\n",
       "      <td>3</td>\n",
       "      <td>!!!!&amp;#;@selfiequeenbri: cause i'm tired big bi...</td>\n",
       "      <td>76</td>\n",
       "      <td>2</td>\n",
       "      <td>1</td>\n",
       "      <td>3</td>\n",
       "      <td>10</td>\n",
       "    </tr>\n",
       "    <tr>\n",
       "      <th>4</th>\n",
       "      <td>4</td>\n",
       "      <td>\" @rhythmixx_ :hobbies include: fighting maria...</td>\n",
       "      <td>54</td>\n",
       "      <td>0</td>\n",
       "      <td>1</td>\n",
       "      <td>2</td>\n",
       "      <td>7</td>\n",
       "    </tr>\n",
       "  </tbody>\n",
       "</table>\n",
       "</div>"
      ],
      "text/plain": [
       "   id                                              tweet  tweet_length  \\\n",
       "0   0  !!!!!!! rt @urkindofbrand dawg!!!! rt @sbabyli...            90   \n",
       "1   1  !!!!!!!!! rt @c_g_anderson: @viva_based look l...            56   \n",
       "2   2  !!!!!!\"@__brighterdays: sit hate another bitch...            74   \n",
       "3   3  !!!!&#;@selfiequeenbri: cause i'm tired big bi...            76   \n",
       "4   4  \" @rhythmixx_ :hobbies include: fighting maria...            54   \n",
       "\n",
       "   num_hashtags  total_tags  num_punctuations  num_words  \n",
       "0             0           2                 1         13  \n",
       "1             0           2                 1          7  \n",
       "2             0           1                 3         11  \n",
       "3             2           1                 3         10  \n",
       "4             0           1                 2          7  "
      ]
     },
     "execution_count": 6,
     "metadata": {},
     "output_type": "execute_result"
    }
   ],
   "source": [
    "test_df_fe = test_set.copy()\n",
    "test_df_fe['tweet_length'] = test_df_fe['tweet'].str.len()\n",
    "test_df_fe['num_hashtags'] = test_df_fe['tweet'].str.count('#')\n",
    "test_df_fe['total_tags'] = test_df_fe['tweet'].str.count('@')\n",
    "test_df_fe['num_punctuations'] = test_df_fe['tweet'].str.count('[.,:;]')\n",
    "test_df_fe['num_words'] = test_df_fe['tweet'].apply(lambda x: len(x.split()))\n",
    "test_df_fe.head()"
   ]
  },
  {
   "cell_type": "code",
   "execution_count": 7,
   "id": "c5b6caaf",
   "metadata": {
    "scrolled": true
   },
   "outputs": [],
   "source": [
    "test_df_fe = test_df_fe.drop(columns=['id'],axis=1)"
   ]
  },
  {
   "cell_type": "code",
   "execution_count": 8,
   "id": "81638f1f",
   "metadata": {},
   "outputs": [],
   "source": [
    "from sklearn import model_selection, preprocessing, linear_model, metrics\n",
    "x = train_df_fe.drop(columns=['class'])\n",
    "y = train_df_fe[\"class\"]\n",
    "\n",
    "train_x, val_x, train_y, val_y = model_selection.train_test_split(x, y, test_size = 0.20, shuffle = True, random_state = 11)"
   ]
  },
  {
   "cell_type": "code",
   "execution_count": 9,
   "id": "311e9ffb",
   "metadata": {
    "scrolled": true
   },
   "outputs": [
    {
     "name": "stdout",
     "output_type": "stream",
     "text": [
      "(11895, 6) (2974, 6) (11895,) (2974,)\n"
     ]
    }
   ],
   "source": [
    "print(train_x.shape,val_x.shape,train_y.shape,val_y.shape)"
   ]
  },
  {
   "cell_type": "code",
   "execution_count": 10,
   "id": "8a211eab",
   "metadata": {},
   "outputs": [
    {
     "data": {
      "text/plain": [
       "(9914, 6)"
      ]
     },
     "execution_count": 10,
     "metadata": {},
     "output_type": "execute_result"
    }
   ],
   "source": [
    "test_df_fe.shape"
   ]
  },
  {
   "cell_type": "markdown",
   "id": "c2a02863",
   "metadata": {},
   "source": [
    "#### Text normalization"
   ]
  },
  {
   "cell_type": "code",
   "execution_count": 11,
   "id": "33faa6ec",
   "metadata": {},
   "outputs": [],
   "source": [
    "# Function to tokenize and clean the text\n",
    "def tokenize_and_clean(text):\n",
    "    # Changing case of the text to lower case\n",
    "    lowered = text.lower()\n",
    "    \n",
    "    # Cleaning the text\n",
    "    cleaned = re.sub('@user', '', lowered)\n",
    "    \n",
    "    # Tokenization\n",
    "    tokens = word_tokenize(cleaned)\n",
    "    filtered_tokens = [token for token in tokens if re.match(r'\\w{1,}', token)]\n",
    "    \n",
    "    # Stemming\n",
    "    stemmer = PorterStemmer()\n",
    "    stems = [stemmer.stem(token) for token in filtered_tokens]\n",
    "    return stems"
   ]
  },
  {
   "cell_type": "markdown",
   "id": "39cc80f5",
   "metadata": {},
   "source": [
    "### Vectorize Data"
   ]
  },
  {
   "cell_type": "code",
   "execution_count": 12,
   "id": "adde3c32",
   "metadata": {},
   "outputs": [
    {
     "name": "stderr",
     "output_type": "stream",
     "text": [
      "C:\\Users\\yuanhsu\\anaconda3\\lib\\site-packages\\sklearn\\feature_extraction\\text.py:396: UserWarning: Your stop_words may be inconsistent with your preprocessing. Tokenizing the stop words generated tokens ['abov', 'afterward', 'alon', 'alreadi', 'alway', 'ani', 'anoth', 'anyon', 'anyth', 'anywher', 'becam', 'becaus', 'becom', 'befor', 'besid', 'cri', 'describ', 'dure', 'els', 'elsewher', 'empti', 'everi', 'everyon', 'everyth', 'everywher', 'fifti', 'formerli', 'forti', 'ha', 'henc', 'hereaft', 'herebi', 'hi', 'howev', 'hundr', 'inde', 'latterli', 'mani', 'meanwhil', 'moreov', 'mostli', 'nobodi', 'noon', 'noth', 'nowher', 'onc', 'onli', 'otherwis', 'ourselv', 'perhap', 'pleas', 'seriou', 'sever', 'sinc', 'sincer', 'sixti', 'someon', 'someth', 'sometim', 'somewher', 'themselv', 'thenc', 'thereaft', 'therebi', 'therefor', 'thi', 'thu', 'togeth', 'twelv', 'twenti', 'veri', 'wa', 'whatev', 'whenc', 'whenev', 'wherea', 'whereaft', 'wherebi', 'wherev', 'whi', 'yourselv'] not in stop_words.\n",
      "  warnings.warn(\n"
     ]
    },
    {
     "name": "stdout",
     "output_type": "stream",
     "text": [
      "(11895, 17295) (2974, 17295)\n",
      "(14869, 20045) (9914, 20045)\n"
     ]
    }
   ],
   "source": [
    "from sklearn.feature_extraction.text import CountVectorizer, TfidfVectorizer\n",
    "# TF-IDF Vectorization\n",
    "tfidf_vectorizer = TfidfVectorizer(tokenizer=tokenize_and_clean, stop_words='english')\n",
    "X_train_tweets_tfidf = tfidf_vectorizer.fit_transform(train_x['tweet'])\n",
    "X_test_tweets_tfidf = tfidf_vectorizer.transform(val_x['tweet'])\n",
    "print(X_train_tweets_tfidf.shape, X_test_tweets_tfidf.shape)\n",
    "\n",
    "# TF-IDF Vectorization on full training data\n",
    "tfidf_vectorizer = TfidfVectorizer(tokenizer=tokenize_and_clean, stop_words='english')\n",
    "X_tweets_tfidf = tfidf_vectorizer.fit_transform(train_set['tweet'])\n",
    "test_tweets_tfidf = tfidf_vectorizer.transform(test_set['tweet'])\n",
    "print(X_tweets_tfidf.shape, test_tweets_tfidf.shape)"
   ]
  },
  {
   "cell_type": "code",
   "execution_count": 13,
   "id": "1d59920e",
   "metadata": {},
   "outputs": [],
   "source": [
    "##new feature\n",
    "X_train_tweets_tfidf = tfidf_vectorizer.fit_transform(train_x['tweet'])\n",
    "X_test_tweets_tfidf = tfidf_vectorizer.transform(val_x['tweet'])"
   ]
  },
  {
   "cell_type": "code",
   "execution_count": 14,
   "id": "00d23f07",
   "metadata": {},
   "outputs": [
    {
     "data": {
      "text/plain": [
       "(9914, 17295)"
      ]
     },
     "execution_count": 14,
     "metadata": {},
     "output_type": "execute_result"
    }
   ],
   "source": [
    "#vectorize testing data\n",
    "test_df_fe_tfidf = tfidf_vectorizer.transform(test_df_fe['tweet'])\n",
    "test_df_fe_tfidf.shape"
   ]
  },
  {
   "cell_type": "code",
   "execution_count": 15,
   "id": "9c7388cb",
   "metadata": {},
   "outputs": [
    {
     "data": {
      "image/png": "[encoded data removed]",
      "text/plain": [
       "<Figure size 432x288 with 1 Axes>"
      ]
     },
     "metadata": {},
     "output_type": "display_data"
    }
   ],
   "source": [
    "# Class Imbalance Check\n",
    "plt.pie(train_set['class'].value_counts(), \n",
    "        labels=['Label 1 (offensive)', 'Label 2 (clean)','Label 0 (hateful)'], \n",
    "        autopct='%0.1f%%')\n",
    "plt.axis('equal')\n",
    "plt.show()"
   ]
  },
  {
   "cell_type": "code",
   "execution_count": 16,
   "id": "b49165ba",
   "metadata": {
    "scrolled": true
   },
   "outputs": [
    {
     "name": "stdout",
     "output_type": "stream",
     "text": [
      "(27579, 17295) (27579,)\n",
      "(34473, 20045) (34473,)\n"
     ]
    },
    {
     "data": {
      "image/png": "[encoded data removed]",
      "text/plain": [
       "<Figure size 432x288 with 1 Axes>"
      ]
     },
     "metadata": {},
     "output_type": "display_data"
    }
   ],
   "source": [
    "from imblearn.over_sampling import SMOTE\n",
    "# SMOTE to deal with the class imbalance\n",
    "smote = SMOTE()\n",
    "X_train_smote, y_train_smote = smote.fit_resample(X_train_tweets_tfidf, train_y.values)\n",
    "print(X_train_smote.shape, y_train_smote.shape)\n",
    "\n",
    "# SMOTE on full training data\n",
    "smote = SMOTE()\n",
    "X_smote, y_smote = smote.fit_resample(X_tweets_tfidf, y.values)\n",
    "print(X_smote.shape, y_smote.shape)\n",
    "\n",
    "# Class Imbalance Check\n",
    "plt.pie(pd.value_counts(y_train_smote), \n",
    "        labels=['Label 1 (offensive)', 'Label 2 (clean)','Label 0 (hateful)'], \n",
    "        autopct='%0.1f%%')\n",
    "plt.axis('equal')\n",
    "plt.show()"
   ]
  },
  {
   "cell_type": "code",
   "execution_count": 17,
   "id": "b3d97d68",
   "metadata": {},
   "outputs": [],
   "source": [
    "# Functions to print scores\n",
    "def training_scores(y_act, y_pred):\n",
    "    acc = round(accuracy_score(y_act, y_pred), 3)\n",
    "    f1 = f1_score(y_act, y_pred,average=None)\n",
    "    print(f'Training Scores: Accuracy={acc}, F1-Score={f1}')\n",
    "    \n",
    "def validation_scores(y_act, y_pred):\n",
    "    acc = round(accuracy_score(y_act, y_pred), 3)\n",
    "    f1 = f1_score(y_act, y_pred,average=None)\n",
    "    print(f'Validation Scores: Accuracy={acc}, F1-Score={f1}')"
   ]
  },
  {
   "cell_type": "markdown",
   "id": "88fc9796",
   "metadata": {},
   "source": [
    "### Model"
   ]
  },
  {
   "cell_type": "code",
   "execution_count": 19,
   "id": "0eb972e1",
   "metadata": {},
   "outputs": [],
   "source": [
    "from sklearn.linear_model import LogisticRegression\n",
    "from sklearn import ensemble\n",
    "from lightgbm import LGBMClassifier\n",
    "from sklearn.metrics import roc_auc_score, roc_curve\n",
    "from xgboost import XGBClassifier\n",
    "from sklearn.metrics import accuracy_score, f1_score"
   ]
  },
  {
   "cell_type": "markdown",
   "id": "be45e498",
   "metadata": {},
   "source": [
    "### Logistic Regression"
   ]
  },
  {
   "cell_type": "code",
   "execution_count": 43,
   "id": "b94cf3c9",
   "metadata": {},
   "outputs": [],
   "source": [
    "from sklearn.model_selection import GridSearchCV\n",
    "# Fit primal logistic regression\n",
    "param_grid = {'C': [0.1,0.5,1,10,50,100], 'max_iter': [1000,1500,2000], 'fit_intercept':[True],'intercept_scaling':[1],\n",
    "            'penalty':['l2'], 'tol':[0.00001,0.0001,0.000001]}\n",
    "log_primal_Grid = GridSearchCV(LogisticRegression(solver='lbfgs'),param_grid, cv=10, refit=True, verbose=0)\n",
    "def best_model(model):\n",
    "    print(model.best_score_)    \n",
    "    print(model.best_params_)\n",
    "    print(model.best_estimator_)\n",
    "    best = model.best_estimator_\n",
    "    # print(best)\n",
    "    return best"
   ]
  },
  {
   "cell_type": "code",
   "execution_count": 44,
   "id": "65f09dcd",
   "metadata": {},
   "outputs": [
    {
     "name": "stdout",
     "output_type": "stream",
     "text": [
      "0.9711369027305764\n",
      "{'C': 50, 'fit_intercept': True, 'intercept_scaling': 1, 'max_iter': 1000, 'penalty': 'l2', 'tol': 1e-05}\n",
      "LogisticRegression(C=50, max_iter=1000, tol=1e-05)\n"
     ]
    }
   ],
   "source": [
    "log_primal_Grid.fit(X_smote, y_smote)\n",
    "n = best_model(log_primal_Grid)\n",
    "#fit best model\n",
    "log_primal = n\n",
    "log_primal.fit(X_smote, y_smote)\n",
    "log_pred = log_primal.predict(test_tweets_tfidf)"
   ]
  },
  {
   "cell_type": "code",
   "execution_count": 41,
   "id": "8bf556bc",
   "metadata": {},
   "outputs": [],
   "source": [
    "test_df = pd.DataFrame(log_pred)\n",
    "test_df.columns = ['class']\n",
    "test_df.to_csv('log_c20_max1000_test.csv')"
   ]
  },
  {
   "cell_type": "code",
   "execution_count": 20,
   "id": "592b0033",
   "metadata": {
    "scrolled": false
   },
   "outputs": [
    {
     "name": "stdout",
     "output_type": "stream",
     "text": [
      "Training Scores: Accuracy=0.973, F1-Score=[0.97522872 0.95922591 0.98439854]\n",
      "Validation Scores: Accuracy=0.863, F1-Score=[0.41452991 0.91552511 0.84363636]\n"
     ]
    },
    {
     "name": "stderr",
     "output_type": "stream",
     "text": [
      "C:\\Users\\yuanhsu\\anaconda3\\lib\\site-packages\\sklearn\\linear_model\\_logistic.py:814: ConvergenceWarning: lbfgs failed to converge (status=1):\n",
      "STOP: TOTAL NO. of ITERATIONS REACHED LIMIT.\n",
      "\n",
      "Increase the number of iterations (max_iter) or scale the data as shown in:\n",
      "    https://scikit-learn.org/stable/modules/preprocessing.html\n",
      "Please also refer to the documentation for alternative solver options:\n",
      "    https://scikit-learn.org/stable/modules/linear_model.html#logistic-regression\n",
      "  n_iter_i = _check_optimize_result(\n"
     ]
    }
   ],
   "source": [
    "# Logistic Regression\n",
    "lr = LogisticRegression()\n",
    "lr.fit(X_train_smote, y_train_smote)\n",
    "y_train_pred = lr.predict(X_train_smote)\n",
    "y_test_pred = lr.predict(X_test_tweets_tfidf)\n",
    "training_scores(y_train_smote, y_train_pred)\n",
    "validation_scores(val_y, y_test_pred)"
   ]
  },
  {
   "cell_type": "code",
   "execution_count": 31,
   "id": "639fd1b3",
   "metadata": {},
   "outputs": [],
   "source": [
    "from sklearn.metrics import confusion_matrix\n",
    "lbl = [0,1,2]\n",
    "arr = confusion_matrix(val_y, y_test_pred, labels=lbl)"
   ]
  },
  {
   "cell_type": "code",
   "execution_count": 34,
   "id": "1395a0bd",
   "metadata": {},
   "outputs": [
    {
     "data": {
      "image/png": "[encoded data removed]",
      "text/plain": [
       "<Figure size 576x360 with 2 Axes>"
      ]
     },
     "metadata": {
      "needs_background": "light"
     },
     "output_type": "display_data"
    }
   ],
   "source": [
    "# 繪熱圖\n",
    "df_cm = pd.DataFrame(arr, index = [i for i in lbl], columns = [i for i in lbl])\n",
    "plt.rcParams['font.sans-serif'] = ['Microsoft JhengHei']  # 顯示中文\n",
    "plt.figure(figsize = (8,5))  \n",
    "\n",
    "sns.heatmap(df_cm, annot=True, cmap=\"YlGnBu\");\n",
    "\n",
    "plt.ylabel('y_true')\n",
    "plt.xlabel('y_pred');\n",
    "plt.tight_layout()"
   ]
  },
  {
   "cell_type": "code",
   "execution_count": null,
   "id": "117a685c",
   "metadata": {},
   "outputs": [],
   "source": [
    "test_pred = log.predict(test_tweets_tfidf)\n",
    "test_df = pd.DataFrame(test_pred)\n",
    "test_df.columns = ['class']\n",
    "test_df.to_csv('log_test.csv')"
   ]
  },
  {
   "cell_type": "markdown",
   "id": "aa16de33",
   "metadata": {},
   "source": [
    "### Multinomial NB"
   ]
  },
  {
   "cell_type": "code",
   "execution_count": null,
   "id": "c708f173",
   "metadata": {},
   "outputs": [],
   "source": [
    "param = [{'alpha': [1, 0.1, 0.01, 0.001, 0.0001, 0.00001]}]  # creating parameter grid\n",
    " \n",
    "# Optimal C by grid search \n",
    "NB_clf = OneVsRestClassifier(MultinomialNB(), n_jobs=-1)\n",
    "Multinomial_NB = GridSearchCV(NB_clf, param, scoring = 'f1_micro', cv=10)\n",
    "Multinomial_NB.fit(X_smote, y_smote)\n",
    "n= best_model(Multinomial_NB)\n",
    "#fit best model\n",
    "MNB = n\n",
    "MNB.fit(X_smote, y_smote)\n",
    "mnb_pred = MNB.predict(test_tweets_tfidf)"
   ]
  },
  {
   "cell_type": "code",
   "execution_count": null,
   "id": "2e75d856",
   "metadata": {},
   "outputs": [],
   "source": [
    "test_df = pd.DataFrame(mnb_pred)\n",
    "test_df.columns = ['class']\n",
    "test_df.to_csv('mnb_c20_max1000_test.csv')"
   ]
  },
  {
   "cell_type": "code",
   "execution_count": 78,
   "id": "da1df684",
   "metadata": {},
   "outputs": [
    {
     "name": "stdout",
     "output_type": "stream",
     "text": [
      "Training Scores: Accuracy=0.955, F1-Score=[0.95341403 0.93397563 0.97666848]\n",
      "Validation Scores: Accuracy=0.79, F1-Score=[0.29699842 0.86663569 0.76953511]\n"
     ]
    }
   ],
   "source": [
    "from sklearn.naive_bayes import MultinomialNB\n",
    "# Naive Bayes Classifier\n",
    "mnb = MultinomialNB()\n",
    "mnb_model = mnb.fit(X_train_smote, y_train_smote)\n",
    "y_train_pred = mnb.predict(X_train_smote)\n",
    "y_test_pred_NB = mnb.predict(X_test_tweets_tfidf)\n",
    "training_scores(y_train_smote, y_train_pred)\n",
    "validation_scores(val_y, y_test_pred_NB)"
   ]
  },
  {
   "cell_type": "code",
   "execution_count": 75,
   "id": "6a84f203",
   "metadata": {},
   "outputs": [],
   "source": [
    "test_pred_NB = mnb.predict(test_tweets_tfidf)\n",
    "test_df = pd.DataFrame(test_pred_NB)\n",
    "test_df.columns = ['class']\n",
    "test_df.to_csv('NB_nosmote_test.csv')"
   ]
  },
  {
   "cell_type": "markdown",
   "id": "d3ba7904",
   "metadata": {},
   "source": [
    "### Random Forest"
   ]
  },
  {
   "cell_type": "code",
   "execution_count": 50,
   "id": "699a1534",
   "metadata": {},
   "outputs": [
    {
     "name": "stdout",
     "output_type": "stream",
     "text": [
      "0.9161110118284368\n",
      "{'max_depth': 10, 'max_features': 11, 'min_samples_split': 5, 'n_estimators': 1000}\n",
      "RandomForestClassifier(max_depth=10, max_features=11, min_samples_split=5,\n",
      "                       n_estimators=1000)\n"
     ]
    }
   ],
   "source": [
    "from sklearn.ensemble import RandomForestClassifier\n",
    "# Fit rf\n",
    "param_grid = {'max_depth': [10], 'max_features': [11],'n_estimators':[1000], 'min_samples_split': [5]}\n",
    "RanFor_grid = GridSearchCV(RandomForestClassifier(), param_grid, cv=10, refit=True, verbose=0)\n",
    "RanFor_grid.fit(X_smote, y_smote)\n",
    "n= best_model(RanFor_grid)\n",
    "#fit best model\n",
    "RF = n\n",
    "RF.fit(X_smote, y_smote)\n",
    "rf_pred = RF.predict(test_tweets_tfidf)"
   ]
  },
  {
   "cell_type": "code",
   "execution_count": 51,
   "id": "912b3354",
   "metadata": {},
   "outputs": [],
   "source": [
    "test_df = pd.DataFrame(rf_pred)\n",
    "test_df.columns = ['class']\n",
    "test_df.to_csv('rf_n1000_max1000_test.csv')"
   ]
  },
  {
   "cell_type": "code",
   "execution_count": null,
   "id": "0b014b0c",
   "metadata": {},
   "outputs": [],
   "source": [
    "# rf nosmote\n",
    "rf_n = RandomForestClassifier(criterion='entropy', max_samples=0.8, \n",
    "                            min_samples_split=10, random_state=0)\n",
    "rf_n.fit(X_train_tweets_tfidf, train_y)\n",
    "y_train_pred = rf_n.predict(X_train_tweets_tfidf)\n",
    "y_test_pred = rf_n.predict(X_test_tweets_tfidf)\n",
    "training_scores(train_y, y_train_pred)\n",
    "validation_scores(val_y, y_test_pred)"
   ]
  },
  {
   "cell_type": "code",
   "execution_count": null,
   "id": "14913ee5",
   "metadata": {},
   "outputs": [],
   "source": [
    "from sklearn.ensemble import RandomForestClassifier\n",
    "# Random Forest Classifier\n",
    "rf = RandomForestClassifier(criterion='entropy', max_samples=0.8, \n",
    "                            min_samples_split=10, random_state=0)\n",
    "rf.fit(X_train_smote, y_train_smote)\n",
    "y_train_pred = rf.predict(X_train_smote)\n",
    "y_test_pred = rf.predict(X_test_tweets_tfidf)\n",
    "training_scores(y_train_smote, y_train_pred)\n",
    "validation_scores(val_y, y_test_pred)"
   ]
  },
  {
   "cell_type": "code",
   "execution_count": null,
   "id": "f97670e0",
   "metadata": {},
   "outputs": [],
   "source": [
    "test_pred_rf = rf_n.predict(test_tweets_tfidf)\n",
    "test_df = pd.DataFrame(test_pred_rf)\n",
    "test_df.columns = ['class']\n",
    "test_df.to_csv('rf_n_test_tune.csv')"
   ]
  },
  {
   "cell_type": "markdown",
   "id": "503ee9fe",
   "metadata": {},
   "source": [
    "### XGB"
   ]
  },
  {
   "cell_type": "code",
   "execution_count": 71,
   "id": "92adcefe",
   "metadata": {},
   "outputs": [
    {
     "name": "stdout",
     "output_type": "stream",
     "text": [
      "Training Scores: Accuracy=0.996, F1-Score=[0.99733072 0.99400806 0.99625874]\n",
      "Validation Scores: Accuracy=0.886, F1-Score=[0.33333333 0.93365343 0.84440228]\n"
     ]
    }
   ],
   "source": [
    "# Extreme Gradient Boosting Classifier\n",
    "xgb = XGBClassifier(objective='binary:logistic', eval_metric='logloss', \n",
    "                    learning_rate=0.8, max_depth=20, gamma=0.6, \n",
    "                    reg_lambda=0.1, reg_alpha=0.1)\n",
    "xgb_model = xgb.fit(X_train_smote, y_train_smote)\n",
    "y_train_pred = xgb.predict(X_train_smote)\n",
    "y_test_pred = xgb.predict(X_test_tweets_tfidf)\n",
    "training_scores(y_train_smote, y_train_pred)\n",
    "validation_scores(val_y, y_test_pred)"
   ]
  },
  {
   "cell_type": "code",
   "execution_count": 56,
   "id": "d8d3f73c",
   "metadata": {},
   "outputs": [],
   "source": [
    "test_pred_xgb = xgb.predict(test_tweets_tfidf)\n",
    "test_df = pd.DataFrame(test_pred_xgb)\n",
    "test_df.columns = ['class']\n",
    "test_df.to_csv('xgb_nosmote_test.csv')"
   ]
  },
  {
   "cell_type": "code",
   "execution_count": null,
   "id": "026a10de",
   "metadata": {},
   "outputs": [],
   "source": [
    "accuracy = model_selection.cross_val_score(xgb_model, \n",
    "                                           X_test_tweets_tfidf, \n",
    "                                           val_y, \n",
    "                                           cv = 20).mean()\n",
    "print(accuracy)"
   ]
  },
  {
   "cell_type": "markdown",
   "id": "e13f1295",
   "metadata": {},
   "source": [
    "### LightGBM"
   ]
  },
  {
   "cell_type": "code",
   "execution_count": 77,
   "id": "f038ad66",
   "metadata": {},
   "outputs": [
    {
     "name": "stdout",
     "output_type": "stream",
     "text": [
      "Training Scores: Accuracy=0.97, F1-Score=[0.97290841 0.95689226 0.97889436]\n",
      "Validation Scores: Accuracy=0.887, F1-Score=[0.42895442 0.93217701 0.85528757]\n"
     ]
    }
   ],
   "source": [
    "lgbm = LGBMClassifier()\n",
    "lgbm_model = lgbm.fit(X_train_smote, y_train_smote)\n",
    "y_train_pred = lgbm.predict(X_train_smote)\n",
    "y_test_pred = lgbm.predict(X_test_tweets_tfidf)\n",
    "training_scores(y_train_smote, y_train_pred)\n",
    "validation_scores(val_y, y_test_pred)"
   ]
  },
  {
   "cell_type": "code",
   "execution_count": 73,
   "id": "c6543944",
   "metadata": {},
   "outputs": [],
   "source": [
    "test_pred_lgbm = lgbm.predict(test_tweets_tfidf)\n",
    "test_df = pd.DataFrame(test_pred_lgbm)\n",
    "test_df.columns = ['class']\n",
    "test_df.to_csv('lgbm_nosmote_param_test.csv')"
   ]
  },
  {
   "cell_type": "code",
   "execution_count": null,
   "id": "125cd6b3",
   "metadata": {},
   "outputs": [],
   "source": [
    "accuracy = model_selection.cross_val_score(lgbm_model, \n",
    "                                           X_test_tweets_tfidf, \n",
    "                                           val_y, \n",
    "                                           cv = 20).mean()\n",
    "print(accuracy)"
   ]
  }
 ],
 "metadata": {
  "kernelspec": {
   "display_name": "Python 3 (ipykernel)",
   "language": "python",
   "name": "python3"
  },
  "language_info": {
   "codemirror_mode": {
    "name": "ipython",
    "version": 3
   },
   "file_extension": ".py",
   "mimetype": "text/x-python",
   "name": "python",
   "nbconvert_exporter": "python",
   "pygments_lexer": "ipython3",
   "version": "3.9.12"
  }
 },
 "nbformat": 4,
 "nbformat_minor": 5
}
