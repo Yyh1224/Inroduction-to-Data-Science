{
 "cells": [
  {
   "cell_type": "markdown",
   "metadata": {},
   "source": [
    "### In-Game Purchase Data Analysis\n",
    "\n",
    "#### Background \n",
    "\n",
    "In this homework, you are ask to deal with a task of analyzing an \"in-game purchase\" dataset. In this game, players are able to to purchase optional items that enhance their playing experience. Now your task is to generate a report that breaks down the game's purchasing data into meaningful insights.\n",
    "\n",
    "-----\n",
    "\n",
    "#### Observable Trends\n",
    "\n",
    "* There are 1163 active players. The vast majority are male (84%). There also exists, a smaller, but notable proportion of female players (14%).\n",
    "\n",
    "* Our peak age demographic falls between 20-24 (44.79%) with secondary groups falling between 15-19 (18.58%) and 25-29 (13.37%). \n",
    "\n",
    "* The age group that spends the most money is the 20-24 with 1,114.06 dollars as total purchase value and an average purchase of 4.32. In contrast, the demographic group that has the highest average purchase is the 35-39 with 4.76 and a total purchase value of 147.67. \n",
    "-----\n"
   ]
  },
  {
   "cell_type": "code",
   "execution_count": 2,
   "metadata": {},
   "outputs": [],
   "source": [
    "import pandas as pd\n",
    "import numpy as np\n",
    "\n",
    "# Raw data file\n",
    "file_to_load = \"purchase_data.csv\"\n",
    "\n",
    "# Read purchasing file and store into pandas data frame\n",
    "purchase_data = pd.read_csv(file_to_load)"
   ]
  },
  {
   "cell_type": "markdown",
   "metadata": {},
   "source": [
    "## Player Count"
   ]
  },
  {
   "cell_type": "markdown",
   "metadata": {},
   "source": [
    "* Display the total number of players\n"
   ]
  },
  {
   "cell_type": "code",
   "execution_count": 3,
   "metadata": {},
   "outputs": [
    {
     "data": {
      "text/html": [
       "<div>\n",
       "<style scoped>\n",
       "    .dataframe tbody tr th:only-of-type {\n",
       "        vertical-align: middle;\n",
       "    }\n",
       "\n",
       "    .dataframe tbody tr th {\n",
       "        vertical-align: top;\n",
       "    }\n",
       "\n",
       "    .dataframe thead th {\n",
       "        text-align: right;\n",
       "    }\n",
       "</style>\n",
       "<table border=\"1\" class=\"dataframe\">\n",
       "  <thead>\n",
       "    <tr style=\"text-align: right;\">\n",
       "      <th></th>\n",
       "      <th>Total Players</th>\n",
       "    </tr>\n",
       "  </thead>\n",
       "  <tbody>\n",
       "    <tr>\n",
       "      <th>0</th>\n",
       "      <td>576</td>\n",
       "    </tr>\n",
       "  </tbody>\n",
       "</table>\n",
       "</div>"
      ],
      "text/plain": [
       "   Total Players\n",
       "0            576"
      ]
     },
     "execution_count": 3,
     "metadata": {},
     "output_type": "execute_result"
    }
   ],
   "source": [
    "#count unique SN\n",
    "data = {'Total Players':[purchase_data['SN'].nunique()]}\n",
    "df = pd.DataFrame(data)\n",
    "df"
   ]
  },
  {
   "cell_type": "markdown",
   "metadata": {},
   "source": [
    "## Purchasing Analysis (Total)"
   ]
  },
  {
   "cell_type": "markdown",
   "metadata": {},
   "source": [
    "* Run basic calculations to obtain number of unique items, average price, etc.\n",
    "* Create a summary data frame to hold the results\n",
    "* Display the summary data frame"
   ]
  },
  {
   "cell_type": "code",
   "execution_count": 4,
   "metadata": {
    "scrolled": true
   },
   "outputs": [
    {
     "data": {
      "text/html": [
       "<div>\n",
       "<style scoped>\n",
       "    .dataframe tbody tr th:only-of-type {\n",
       "        vertical-align: middle;\n",
       "    }\n",
       "\n",
       "    .dataframe tbody tr th {\n",
       "        vertical-align: top;\n",
       "    }\n",
       "\n",
       "    .dataframe thead th {\n",
       "        text-align: right;\n",
       "    }\n",
       "</style>\n",
       "<table border=\"1\" class=\"dataframe\">\n",
       "  <thead>\n",
       "    <tr style=\"text-align: right;\">\n",
       "      <th></th>\n",
       "      <th>Number of Unique Items</th>\n",
       "      <th>Average Price</th>\n",
       "      <th>Number of Purchases</th>\n",
       "      <th>Total Revenue</th>\n",
       "    </tr>\n",
       "  </thead>\n",
       "  <tbody>\n",
       "    <tr>\n",
       "      <th>0</th>\n",
       "      <td>183</td>\n",
       "      <td>$3.05</td>\n",
       "      <td>780</td>\n",
       "      <td>$2379.77</td>\n",
       "    </tr>\n",
       "  </tbody>\n",
       "</table>\n",
       "</div>"
      ],
      "text/plain": [
       "   Number of Unique Items Average Price  Number of Purchases Total Revenue\n",
       "0                     183         $3.05                  780      $2379.77"
      ]
     },
     "execution_count": 4,
     "metadata": {},
     "output_type": "execute_result"
    }
   ],
   "source": [
    "analysis = {\n",
    "    #aggregate by requirement\n",
    "    #plot by the right format\n",
    "    'Number of Unique Items':[purchase_data['Item ID'].nunique()],\n",
    "    'Average Price':['$'+str(round(purchase_data['Price'].agg('mean'),2))],\n",
    "    'Number of Purchases':[purchase_data['Price'].count()],\n",
    "    'Total Revenue':['$'+str(round(purchase_data['Price'].agg('sum'),2))]\n",
    "}\n",
    "df = pd.DataFrame(analysis)\n",
    "df"
   ]
  },
  {
   "cell_type": "markdown",
   "metadata": {},
   "source": [
    "## Gender Demographics"
   ]
  },
  {
   "cell_type": "markdown",
   "metadata": {},
   "source": [
    "* Percentage and Count of Male Players\n",
    "\n",
    "\n",
    "* Percentage and Count of Female Players\n",
    "\n",
    "\n",
    "* Percentage and Count of Other / Non-Disclosed\n",
    "\n",
    "\n"
   ]
  },
  {
   "cell_type": "code",
   "execution_count": 19,
   "metadata": {},
   "outputs": [
    {
     "data": {
      "text/html": [
       "<div>\n",
       "<style scoped>\n",
       "    .dataframe tbody tr th:only-of-type {\n",
       "        vertical-align: middle;\n",
       "    }\n",
       "\n",
       "    .dataframe tbody tr th {\n",
       "        vertical-align: top;\n",
       "    }\n",
       "\n",
       "    .dataframe thead th {\n",
       "        text-align: right;\n",
       "    }\n",
       "</style>\n",
       "<table border=\"1\" class=\"dataframe\">\n",
       "  <thead>\n",
       "    <tr style=\"text-align: right;\">\n",
       "      <th></th>\n",
       "      <th>Percentage of Players</th>\n",
       "      <th>Total Count</th>\n",
       "    </tr>\n",
       "  </thead>\n",
       "  <tbody>\n",
       "    <tr>\n",
       "      <th>Male</th>\n",
       "      <td>84.03</td>\n",
       "      <td>484</td>\n",
       "    </tr>\n",
       "    <tr>\n",
       "      <th>Female</th>\n",
       "      <td>14.06</td>\n",
       "      <td>81</td>\n",
       "    </tr>\n",
       "    <tr>\n",
       "      <th>Other / Non-Disclosed</th>\n",
       "      <td>1.91</td>\n",
       "      <td>11</td>\n",
       "    </tr>\n",
       "  </tbody>\n",
       "</table>\n",
       "</div>"
      ],
      "text/plain": [
       "                       Percentage of Players  Total Count\n",
       "Male                                   84.03          484\n",
       "Female                                 14.06           81\n",
       "Other / Non-Disclosed                   1.91           11"
      ]
     },
     "execution_count": 19,
     "metadata": {},
     "output_type": "execute_result"
    }
   ],
   "source": [
    "total = purchase_data['SN'].nunique()\n",
    "#get gender data\n",
    "def gender_count(gender):\n",
    "    return purchase_data[purchase_data['Gender']==gender]['SN'].nunique()\n",
    "female = gender_count('Female')\n",
    "male = gender_count('Male')\n",
    "other = gender_count('Other / Non-Disclosed')\n",
    "#calculate percentage\n",
    "def percentage(num,sum_num):\n",
    "    return round((num/sum_num)*100,2)\n",
    "#plot as df format\n",
    "data = [[percentage(male,total), male], [percentage(female,total), female], [percentage(other,total), other]]\n",
    "df_gender = pd.DataFrame(data, columns=['Percentage of Players', 'Total Count'],index=['Male','Female','Other / Non-Disclosed'])\n",
    "df_gender"
   ]
  },
  {
   "cell_type": "markdown",
   "metadata": {},
   "source": [
    "\n",
    "## Purchasing Analysis (Gender)"
   ]
  },
  {
   "cell_type": "markdown",
   "metadata": {},
   "source": [
    "* Run basic calculations to obtain below values by gender\n",
    "  * Purchase Count\n",
    "  * Average Purchase Price  \n",
    "  * Total Purchase Value\n",
    "  * Average Purchase Total per Person by Gender\n",
    "* Create a summary data frame to hold the results\n",
    "* Display the summary data frame"
   ]
  },
  {
   "cell_type": "code",
   "execution_count": 81,
   "metadata": {},
   "outputs": [
    {
     "data": {
      "text/html": [
       "<div>\n",
       "<style scoped>\n",
       "    .dataframe tbody tr th:only-of-type {\n",
       "        vertical-align: middle;\n",
       "    }\n",
       "\n",
       "    .dataframe tbody tr th {\n",
       "        vertical-align: top;\n",
       "    }\n",
       "\n",
       "    .dataframe thead th {\n",
       "        text-align: right;\n",
       "    }\n",
       "</style>\n",
       "<table border=\"1\" class=\"dataframe\">\n",
       "  <thead>\n",
       "    <tr style=\"text-align: right;\">\n",
       "      <th></th>\n",
       "      <th>Purchase Count</th>\n",
       "      <th>Average Purchase Price</th>\n",
       "      <th>Total Purchase Value</th>\n",
       "      <th>Avg Purchase Total per Person</th>\n",
       "    </tr>\n",
       "    <tr>\n",
       "      <th>Gender</th>\n",
       "      <th></th>\n",
       "      <th></th>\n",
       "      <th></th>\n",
       "      <th></th>\n",
       "    </tr>\n",
       "  </thead>\n",
       "  <tbody>\n",
       "    <tr>\n",
       "      <th>Female</th>\n",
       "      <td>113</td>\n",
       "      <td>3.20</td>\n",
       "      <td>361.94</td>\n",
       "      <td>4.47</td>\n",
       "    </tr>\n",
       "    <tr>\n",
       "      <th>Male</th>\n",
       "      <td>652</td>\n",
       "      <td>3.02</td>\n",
       "      <td>1967.64</td>\n",
       "      <td>4.07</td>\n",
       "    </tr>\n",
       "    <tr>\n",
       "      <th>Other / Non-Disclosed</th>\n",
       "      <td>15</td>\n",
       "      <td>3.35</td>\n",
       "      <td>50.19</td>\n",
       "      <td>4.56</td>\n",
       "    </tr>\n",
       "  </tbody>\n",
       "</table>\n",
       "</div>"
      ],
      "text/plain": [
       "                       Purchase Count  Average Purchase Price  \\\n",
       "Gender                                                          \n",
       "Female                            113                    3.20   \n",
       "Male                              652                    3.02   \n",
       "Other / Non-Disclosed              15                    3.35   \n",
       "\n",
       "                       Total Purchase Value  Avg Purchase Total per Person  \n",
       "Gender                                                                      \n",
       "Female                               361.94                           4.47  \n",
       "Male                                1967.64                           4.07  \n",
       "Other / Non-Disclosed                 50.19                           4.56  "
      ]
     },
     "execution_count": 81,
     "metadata": {},
     "output_type": "execute_result"
    }
   ],
   "source": [
    "purchase_sum = purchase_data.groupby('Gender').agg('sum')['Price']#calculate gender total price\n",
    "purchase_analysis = {\n",
    "    #plot as the df format\n",
    "    'Purchase Count': purchase_data.groupby('Gender')['Purchase ID'].nunique(),\n",
    "    'Average Purchase Price': round(purchase_data.groupby('Gender').agg('mean')['Price'],2),\n",
    "    'Total Purchase Value': purchase_sum,\n",
    "    'Avg Purchase Total per Person': round(purchase_sum/df_gender['Total Count'],2)\n",
    "}\n",
    "df = pd.DataFrame(purchase_analysis)\n",
    "df"
   ]
  },
  {
   "cell_type": "markdown",
   "metadata": {},
   "source": [
    "## Age Demographics"
   ]
  },
  {
   "cell_type": "markdown",
   "metadata": {},
   "source": [
    "* Categorize players using the age groups. Hint: use pd.cut()\n",
    "  * each group is for 4 years (i.e. &lt;10, 10-14, 15-19, etc.)\n",
    "* Calculate the numbers and percentages by age group\n",
    "* Create a summary data frame to hold the results\n",
    "* round the percentage column to two decimal points\n",
    "* Display Age Demographics Table"
   ]
  },
  {
   "cell_type": "code",
   "execution_count": 91,
   "metadata": {},
   "outputs": [
    {
     "data": {
      "text/html": [
       "<div>\n",
       "<style scoped>\n",
       "    .dataframe tbody tr th:only-of-type {\n",
       "        vertical-align: middle;\n",
       "    }\n",
       "\n",
       "    .dataframe tbody tr th {\n",
       "        vertical-align: top;\n",
       "    }\n",
       "\n",
       "    .dataframe thead th {\n",
       "        text-align: right;\n",
       "    }\n",
       "</style>\n",
       "<table border=\"1\" class=\"dataframe\">\n",
       "  <thead>\n",
       "    <tr style=\"text-align: right;\">\n",
       "      <th></th>\n",
       "      <th>Percentage of Players</th>\n",
       "      <th>Total Count</th>\n",
       "    </tr>\n",
       "    <tr>\n",
       "      <th>Age group</th>\n",
       "      <th></th>\n",
       "      <th></th>\n",
       "    </tr>\n",
       "  </thead>\n",
       "  <tbody>\n",
       "    <tr>\n",
       "      <th>&lt;10</th>\n",
       "      <td>2.95</td>\n",
       "      <td>17</td>\n",
       "    </tr>\n",
       "    <tr>\n",
       "      <th>10-14</th>\n",
       "      <td>3.82</td>\n",
       "      <td>22</td>\n",
       "    </tr>\n",
       "    <tr>\n",
       "      <th>15-19</th>\n",
       "      <td>18.58</td>\n",
       "      <td>107</td>\n",
       "    </tr>\n",
       "    <tr>\n",
       "      <th>20-24</th>\n",
       "      <td>44.79</td>\n",
       "      <td>258</td>\n",
       "    </tr>\n",
       "    <tr>\n",
       "      <th>25-29</th>\n",
       "      <td>13.37</td>\n",
       "      <td>77</td>\n",
       "    </tr>\n",
       "    <tr>\n",
       "      <th>30-34</th>\n",
       "      <td>9.03</td>\n",
       "      <td>52</td>\n",
       "    </tr>\n",
       "    <tr>\n",
       "      <th>35-39</th>\n",
       "      <td>5.38</td>\n",
       "      <td>31</td>\n",
       "    </tr>\n",
       "    <tr>\n",
       "      <th>40+</th>\n",
       "      <td>2.08</td>\n",
       "      <td>12</td>\n",
       "    </tr>\n",
       "  </tbody>\n",
       "</table>\n",
       "</div>"
      ],
      "text/plain": [
       "           Percentage of Players  Total Count\n",
       "Age group                                    \n",
       "<10                         2.95           17\n",
       "10-14                       3.82           22\n",
       "15-19                      18.58          107\n",
       "20-24                      44.79          258\n",
       "25-29                      13.37           77\n",
       "30-34                       9.03           52\n",
       "35-39                       5.38           31\n",
       "40+                         2.08           12"
      ]
     },
     "execution_count": 91,
     "metadata": {},
     "output_type": "execute_result"
    }
   ],
   "source": [
    "purchase_data['SN'].nunique()\n",
    "age_ls = purchase_data['Age']\n",
    "name = [\"<10\", \"10-14\", \"15-19\", \"20-24\", \"25-29\", \"30-34\", \"35-39\", \"40+\"]\n",
    "# cut age_ls\n",
    "bins = [0, 9.9, 14.9, 19.9, 24.9, 29.9, 34.9, 39.9, 100]\n",
    "purchase_data['Age group'] = pd.cut(age_ls,bins,labels = name)\n",
    "#calculate each group percentage\n",
    "grouped = purchase_data.groupby('Age group')\n",
    "percentage_age = round((grouped['SN'].nunique()/total)*100,2)\n",
    "age_analysis = {\n",
    "    'Percentage of Players': percentage_age,\n",
    "    'Total Count': grouped['SN'].nunique()\n",
    "}\n",
    "df_age = pd.DataFrame(age_analysis)\n",
    "df_age"
   ]
  },
  {
   "cell_type": "markdown",
   "metadata": {},
   "source": [
    "## Purchasing Analysis (Age)"
   ]
  },
  {
   "cell_type": "markdown",
   "metadata": {},
   "source": [
    "* The below each broken into groups of 4 years (i.e. &lt;10, 10-14, 15-19, etc.)\n",
    "  * Purchase Count\n",
    "  * Average Purchase Price\n",
    "  * Total Purchase Value\n",
    "  * Average Purchase Total per Person by Age Group\n",
    "* Bin the purchase_data data frame by age\n",
    "* Run basic calculations to obtain purchase count, avg. purchase price, avg. purchase total per person etc. in the table below\n",
    "* Create a summary data frame to hold the results\n",
    "* Display the summary data frame"
   ]
  },
  {
   "cell_type": "code",
   "execution_count": 108,
   "metadata": {},
   "outputs": [
    {
     "data": {
      "text/html": [
       "<style  type=\"text/css\" >\n",
       "</style><table id=\"T_8cd2d256_412c_11ed_be1d_a8e0a9813b71\" ><thead>    <tr>        <th class=\"blank level0\" ></th>        <th class=\"col_heading level0 col0\" >Purchase Count</th>        <th class=\"col_heading level0 col1\" >Average Purchase Price</th>        <th class=\"col_heading level0 col2\" >Total Purchase Value</th>        <th class=\"col_heading level0 col3\" >Average Purchase Total per Person</th>    </tr>    <tr>        <th class=\"index_name level0\" >Age group</th>        <th class=\"blank\" ></th>        <th class=\"blank\" ></th>        <th class=\"blank\" ></th>        <th class=\"blank\" ></th>    </tr></thead><tbody>\n",
       "                <tr>\n",
       "                        <th id=\"T_8cd2d256_412c_11ed_be1d_a8e0a9813b71level0_row0\" class=\"row_heading level0 row0\" ><10</th>\n",
       "                        <td id=\"T_8cd2d256_412c_11ed_be1d_a8e0a9813b71row0_col0\" class=\"data row0 col0\" >23</td>\n",
       "                        <td id=\"T_8cd2d256_412c_11ed_be1d_a8e0a9813b71row0_col1\" class=\"data row0 col1\" >$3.35</td>\n",
       "                        <td id=\"T_8cd2d256_412c_11ed_be1d_a8e0a9813b71row0_col2\" class=\"data row0 col2\" >$77.13</td>\n",
       "                        <td id=\"T_8cd2d256_412c_11ed_be1d_a8e0a9813b71row0_col3\" class=\"data row0 col3\" >$4.54</td>\n",
       "            </tr>\n",
       "            <tr>\n",
       "                        <th id=\"T_8cd2d256_412c_11ed_be1d_a8e0a9813b71level0_row1\" class=\"row_heading level0 row1\" >10-14</th>\n",
       "                        <td id=\"T_8cd2d256_412c_11ed_be1d_a8e0a9813b71row1_col0\" class=\"data row1 col0\" >28</td>\n",
       "                        <td id=\"T_8cd2d256_412c_11ed_be1d_a8e0a9813b71row1_col1\" class=\"data row1 col1\" >$2.96</td>\n",
       "                        <td id=\"T_8cd2d256_412c_11ed_be1d_a8e0a9813b71row1_col2\" class=\"data row1 col2\" >$82.78</td>\n",
       "                        <td id=\"T_8cd2d256_412c_11ed_be1d_a8e0a9813b71row1_col3\" class=\"data row1 col3\" >$3.76</td>\n",
       "            </tr>\n",
       "            <tr>\n",
       "                        <th id=\"T_8cd2d256_412c_11ed_be1d_a8e0a9813b71level0_row2\" class=\"row_heading level0 row2\" >15-19</th>\n",
       "                        <td id=\"T_8cd2d256_412c_11ed_be1d_a8e0a9813b71row2_col0\" class=\"data row2 col0\" >136</td>\n",
       "                        <td id=\"T_8cd2d256_412c_11ed_be1d_a8e0a9813b71row2_col1\" class=\"data row2 col1\" >$3.04</td>\n",
       "                        <td id=\"T_8cd2d256_412c_11ed_be1d_a8e0a9813b71row2_col2\" class=\"data row2 col2\" >$412.89</td>\n",
       "                        <td id=\"T_8cd2d256_412c_11ed_be1d_a8e0a9813b71row2_col3\" class=\"data row2 col3\" >$3.86</td>\n",
       "            </tr>\n",
       "            <tr>\n",
       "                        <th id=\"T_8cd2d256_412c_11ed_be1d_a8e0a9813b71level0_row3\" class=\"row_heading level0 row3\" >20-24</th>\n",
       "                        <td id=\"T_8cd2d256_412c_11ed_be1d_a8e0a9813b71row3_col0\" class=\"data row3 col0\" >365</td>\n",
       "                        <td id=\"T_8cd2d256_412c_11ed_be1d_a8e0a9813b71row3_col1\" class=\"data row3 col1\" >$3.05</td>\n",
       "                        <td id=\"T_8cd2d256_412c_11ed_be1d_a8e0a9813b71row3_col2\" class=\"data row3 col2\" >$1114.06</td>\n",
       "                        <td id=\"T_8cd2d256_412c_11ed_be1d_a8e0a9813b71row3_col3\" class=\"data row3 col3\" >$4.32</td>\n",
       "            </tr>\n",
       "            <tr>\n",
       "                        <th id=\"T_8cd2d256_412c_11ed_be1d_a8e0a9813b71level0_row4\" class=\"row_heading level0 row4\" >25-29</th>\n",
       "                        <td id=\"T_8cd2d256_412c_11ed_be1d_a8e0a9813b71row4_col0\" class=\"data row4 col0\" >101</td>\n",
       "                        <td id=\"T_8cd2d256_412c_11ed_be1d_a8e0a9813b71row4_col1\" class=\"data row4 col1\" >$2.9</td>\n",
       "                        <td id=\"T_8cd2d256_412c_11ed_be1d_a8e0a9813b71row4_col2\" class=\"data row4 col2\" >$293.0</td>\n",
       "                        <td id=\"T_8cd2d256_412c_11ed_be1d_a8e0a9813b71row4_col3\" class=\"data row4 col3\" >$3.81</td>\n",
       "            </tr>\n",
       "            <tr>\n",
       "                        <th id=\"T_8cd2d256_412c_11ed_be1d_a8e0a9813b71level0_row5\" class=\"row_heading level0 row5\" >30-34</th>\n",
       "                        <td id=\"T_8cd2d256_412c_11ed_be1d_a8e0a9813b71row5_col0\" class=\"data row5 col0\" >73</td>\n",
       "                        <td id=\"T_8cd2d256_412c_11ed_be1d_a8e0a9813b71row5_col1\" class=\"data row5 col1\" >$2.93</td>\n",
       "                        <td id=\"T_8cd2d256_412c_11ed_be1d_a8e0a9813b71row5_col2\" class=\"data row5 col2\" >$214.0</td>\n",
       "                        <td id=\"T_8cd2d256_412c_11ed_be1d_a8e0a9813b71row5_col3\" class=\"data row5 col3\" >$4.12</td>\n",
       "            </tr>\n",
       "            <tr>\n",
       "                        <th id=\"T_8cd2d256_412c_11ed_be1d_a8e0a9813b71level0_row6\" class=\"row_heading level0 row6\" >35-39</th>\n",
       "                        <td id=\"T_8cd2d256_412c_11ed_be1d_a8e0a9813b71row6_col0\" class=\"data row6 col0\" >41</td>\n",
       "                        <td id=\"T_8cd2d256_412c_11ed_be1d_a8e0a9813b71row6_col1\" class=\"data row6 col1\" >$3.6</td>\n",
       "                        <td id=\"T_8cd2d256_412c_11ed_be1d_a8e0a9813b71row6_col2\" class=\"data row6 col2\" >$147.67</td>\n",
       "                        <td id=\"T_8cd2d256_412c_11ed_be1d_a8e0a9813b71row6_col3\" class=\"data row6 col3\" >$4.76</td>\n",
       "            </tr>\n",
       "            <tr>\n",
       "                        <th id=\"T_8cd2d256_412c_11ed_be1d_a8e0a9813b71level0_row7\" class=\"row_heading level0 row7\" >40+</th>\n",
       "                        <td id=\"T_8cd2d256_412c_11ed_be1d_a8e0a9813b71row7_col0\" class=\"data row7 col0\" >13</td>\n",
       "                        <td id=\"T_8cd2d256_412c_11ed_be1d_a8e0a9813b71row7_col1\" class=\"data row7 col1\" >$2.94</td>\n",
       "                        <td id=\"T_8cd2d256_412c_11ed_be1d_a8e0a9813b71row7_col2\" class=\"data row7 col2\" >$38.24</td>\n",
       "                        <td id=\"T_8cd2d256_412c_11ed_be1d_a8e0a9813b71row7_col3\" class=\"data row7 col3\" >$3.19</td>\n",
       "            </tr>\n",
       "    </tbody></table>"
      ],
      "text/plain": [
       "<pandas.io.formats.style.Styler at 0x22a7dcc84c0>"
      ]
     },
     "execution_count": 108,
     "metadata": {},
     "output_type": "execute_result"
    }
   ],
   "source": [
    "#calculate avg, total, count\n",
    "avg_g = round(grouped.agg('mean')['Price'],2)\n",
    "total_g = round(grouped.agg('sum')['Price'],2)\n",
    "count_g = round(grouped.agg('count')['Price'],2)\n",
    "#plot format\n",
    "age_purchase_analysis = {\n",
    "    'Purchase Count': count_g,\n",
    "    'Average Purchase Price': avg_g,\n",
    "    'Total Purchase Value': total_g,\n",
    "    'Average Purchase Total per Person': round(total_g/grouped['SN'].nunique(),2)\n",
    "}\n",
    "df_age_purchase = pd.DataFrame(age_purchase_analysis)\n",
    "#dollar sign\n",
    "df_age_purchase.style.format({\n",
    "    'Average Purchase Price': \"${:}\",\n",
    "    'Total Purchase Value': \"${:}\",\n",
    "    'Average Purchase Total per Person': \"${:}\"\n",
    "})"
   ]
  },
  {
   "cell_type": "markdown",
   "metadata": {},
   "source": [
    "## Top Spenders"
   ]
  },
  {
   "cell_type": "markdown",
   "metadata": {},
   "source": [
    "* Identify the the top 5 spenders in the game by total purchase value (top-5 players with highest total purchase value), then list (in a table):\n",
    "  * SN(screen name)\n",
    "  * Purchase Count\n",
    "  * Average Purchase Price\n",
    "  * Total Purchase Value\n",
    "* Run basic calculations to obtain the results in the table below\n",
    "* Create a summary data frame to hold the results\n",
    "* Sort the total purchase value column in descending order\n",
    "* Display a preview of the summary data frame"
   ]
  },
  {
   "cell_type": "code",
   "execution_count": 145,
   "metadata": {},
   "outputs": [
    {
     "data": {
      "text/html": [
       "<style  type=\"text/css\" >\n",
       "</style><table id=\"T_76c19c09_4130_11ed_ab68_a8e0a9813b71\" ><thead>    <tr>        <th class=\"blank level0\" ></th>        <th class=\"col_heading level0 col0\" >Purchase Count</th>        <th class=\"col_heading level0 col1\" >Average Purchase Price</th>        <th class=\"col_heading level0 col2\" >Total Purchase Value</th>    </tr>    <tr>        <th class=\"index_name level0\" >SN</th>        <th class=\"blank\" ></th>        <th class=\"blank\" ></th>        <th class=\"blank\" ></th>    </tr></thead><tbody>\n",
       "                <tr>\n",
       "                        <th id=\"T_76c19c09_4130_11ed_ab68_a8e0a9813b71level0_row0\" class=\"row_heading level0 row0\" >Lisosia93</th>\n",
       "                        <td id=\"T_76c19c09_4130_11ed_ab68_a8e0a9813b71row0_col0\" class=\"data row0 col0\" >5</td>\n",
       "                        <td id=\"T_76c19c09_4130_11ed_ab68_a8e0a9813b71row0_col1\" class=\"data row0 col1\" >$3.79</td>\n",
       "                        <td id=\"T_76c19c09_4130_11ed_ab68_a8e0a9813b71row0_col2\" class=\"data row0 col2\" >$18.96</td>\n",
       "            </tr>\n",
       "            <tr>\n",
       "                        <th id=\"T_76c19c09_4130_11ed_ab68_a8e0a9813b71level0_row1\" class=\"row_heading level0 row1\" >Idastidru52</th>\n",
       "                        <td id=\"T_76c19c09_4130_11ed_ab68_a8e0a9813b71row1_col0\" class=\"data row1 col0\" >4</td>\n",
       "                        <td id=\"T_76c19c09_4130_11ed_ab68_a8e0a9813b71row1_col1\" class=\"data row1 col1\" >$3.86</td>\n",
       "                        <td id=\"T_76c19c09_4130_11ed_ab68_a8e0a9813b71row1_col2\" class=\"data row1 col2\" >$15.45</td>\n",
       "            </tr>\n",
       "            <tr>\n",
       "                        <th id=\"T_76c19c09_4130_11ed_ab68_a8e0a9813b71level0_row2\" class=\"row_heading level0 row2\" >Chamjask73</th>\n",
       "                        <td id=\"T_76c19c09_4130_11ed_ab68_a8e0a9813b71row2_col0\" class=\"data row2 col0\" >3</td>\n",
       "                        <td id=\"T_76c19c09_4130_11ed_ab68_a8e0a9813b71row2_col1\" class=\"data row2 col1\" >$4.61</td>\n",
       "                        <td id=\"T_76c19c09_4130_11ed_ab68_a8e0a9813b71row2_col2\" class=\"data row2 col2\" >$13.83</td>\n",
       "            </tr>\n",
       "            <tr>\n",
       "                        <th id=\"T_76c19c09_4130_11ed_ab68_a8e0a9813b71level0_row3\" class=\"row_heading level0 row3\" >Iral74</th>\n",
       "                        <td id=\"T_76c19c09_4130_11ed_ab68_a8e0a9813b71row3_col0\" class=\"data row3 col0\" >4</td>\n",
       "                        <td id=\"T_76c19c09_4130_11ed_ab68_a8e0a9813b71row3_col1\" class=\"data row3 col1\" >$3.4</td>\n",
       "                        <td id=\"T_76c19c09_4130_11ed_ab68_a8e0a9813b71row3_col2\" class=\"data row3 col2\" >$13.62</td>\n",
       "            </tr>\n",
       "            <tr>\n",
       "                        <th id=\"T_76c19c09_4130_11ed_ab68_a8e0a9813b71level0_row4\" class=\"row_heading level0 row4\" >Iskadarya95</th>\n",
       "                        <td id=\"T_76c19c09_4130_11ed_ab68_a8e0a9813b71row4_col0\" class=\"data row4 col0\" >3</td>\n",
       "                        <td id=\"T_76c19c09_4130_11ed_ab68_a8e0a9813b71row4_col1\" class=\"data row4 col1\" >$4.37</td>\n",
       "                        <td id=\"T_76c19c09_4130_11ed_ab68_a8e0a9813b71row4_col2\" class=\"data row4 col2\" >$13.1</td>\n",
       "            </tr>\n",
       "    </tbody></table>"
      ],
      "text/plain": [
       "<pandas.io.formats.style.Styler at 0x22a7ee10610>"
      ]
     },
     "execution_count": 145,
     "metadata": {},
     "output_type": "execute_result"
    }
   ],
   "source": [
    "#calculate count sum avg\n",
    "group_SN = purchase_data.groupby('SN')\n",
    "count_SN = group_SN.agg('count')['Price']\n",
    "total_SN = round(group_SN.agg('sum')['Price'],2)\n",
    "avg_SN = round(group_SN.agg('mean')['Price'],2)\n",
    "#plot df\n",
    "spender_analysis = {\n",
    "    'Purchase Count': count_SN,\n",
    "    'Average Purchase Price': avg_SN,\n",
    "    'Total Purchase Value': total_SN,\n",
    "}\n",
    "#dollar sign format\n",
    "df_spender_purchase = pd.DataFrame(spender_analysis)\n",
    "df_spender_purchase = df_spender_purchase.sort_values([\"Total Purchase Value\"], ascending=False).head(5)\n",
    "df_spender_purchase.style.format({\n",
    "    'Average Purchase Price': \"${:}\",\n",
    "    'Total Purchase Value': \"${:}\"\n",
    "})"
   ]
  },
  {
   "cell_type": "markdown",
   "metadata": {},
   "source": [
    "## Most Popular Items"
   ]
  },
  {
   "cell_type": "markdown",
   "metadata": {},
   "source": [
    "* Top 5 most popular items by purchase count:\n",
    "  * Item ID\n",
    "  * Item Name\n",
    "  * Purchase Count\n",
    "  * Item Price\n",
    "  * Total Purchase Value\n",
    "* Retrieve the Item ID, Item Name, and Item Price columns\n",
    "* Group by Item ID and Item Name. Perform calculations to obtain purchase count, item price, and total purchase value\n",
    "* Create a summary data frame to hold the results\n",
    "* Sort the purchase count column in descending order\n",
    "* Display a preview of the summary data frame"
   ]
  },
  {
   "cell_type": "code",
   "execution_count": 169,
   "metadata": {},
   "outputs": [
    {
     "data": {
      "text/html": [
       "<style  type=\"text/css\" >\n",
       "</style><table id=\"T_96d9409e_4133_11ed_88ef_a8e0a9813b71\" ><thead>    <tr>        <th class=\"blank\" ></th>        <th class=\"blank level0\" ></th>        <th class=\"col_heading level0 col0\" >Purchase Count</th>        <th class=\"col_heading level0 col1\" >Item Price</th>        <th class=\"col_heading level0 col2\" >Total Purchase Value</th>    </tr>    <tr>        <th class=\"index_name level0\" >Item ID</th>        <th class=\"index_name level1\" >Item Name</th>        <th class=\"blank\" ></th>        <th class=\"blank\" ></th>        <th class=\"blank\" ></th>    </tr></thead><tbody>\n",
       "                <tr>\n",
       "                        <th id=\"T_96d9409e_4133_11ed_88ef_a8e0a9813b71level0_row0\" class=\"row_heading level0 row0\" >178</th>\n",
       "                        <th id=\"T_96d9409e_4133_11ed_88ef_a8e0a9813b71level1_row0\" class=\"row_heading level1 row0\" >Oathbreaker, Last Hope of the Breaking Storm</th>\n",
       "                        <td id=\"T_96d9409e_4133_11ed_88ef_a8e0a9813b71row0_col0\" class=\"data row0 col0\" >12</td>\n",
       "                        <td id=\"T_96d9409e_4133_11ed_88ef_a8e0a9813b71row0_col1\" class=\"data row0 col1\" >$4.23</td>\n",
       "                        <td id=\"T_96d9409e_4133_11ed_88ef_a8e0a9813b71row0_col2\" class=\"data row0 col2\" >$50.76</td>\n",
       "            </tr>\n",
       "            <tr>\n",
       "                        <th id=\"T_96d9409e_4133_11ed_88ef_a8e0a9813b71level0_row1\" class=\"row_heading level0 row1\" >145</th>\n",
       "                        <th id=\"T_96d9409e_4133_11ed_88ef_a8e0a9813b71level1_row1\" class=\"row_heading level1 row1\" >Fiery Glass Crusader</th>\n",
       "                        <td id=\"T_96d9409e_4133_11ed_88ef_a8e0a9813b71row1_col0\" class=\"data row1 col0\" >9</td>\n",
       "                        <td id=\"T_96d9409e_4133_11ed_88ef_a8e0a9813b71row1_col1\" class=\"data row1 col1\" >$4.58</td>\n",
       "                        <td id=\"T_96d9409e_4133_11ed_88ef_a8e0a9813b71row1_col2\" class=\"data row1 col2\" >$41.22</td>\n",
       "            </tr>\n",
       "            <tr>\n",
       "                        <th id=\"T_96d9409e_4133_11ed_88ef_a8e0a9813b71level0_row2\" class=\"row_heading level0 row2\" >108</th>\n",
       "                        <th id=\"T_96d9409e_4133_11ed_88ef_a8e0a9813b71level1_row2\" class=\"row_heading level1 row2\" >Extraction, Quickblade Of Trembling Hands</th>\n",
       "                        <td id=\"T_96d9409e_4133_11ed_88ef_a8e0a9813b71row2_col0\" class=\"data row2 col0\" >9</td>\n",
       "                        <td id=\"T_96d9409e_4133_11ed_88ef_a8e0a9813b71row2_col1\" class=\"data row2 col1\" >$3.53</td>\n",
       "                        <td id=\"T_96d9409e_4133_11ed_88ef_a8e0a9813b71row2_col2\" class=\"data row2 col2\" >$31.77</td>\n",
       "            </tr>\n",
       "            <tr>\n",
       "                        <th id=\"T_96d9409e_4133_11ed_88ef_a8e0a9813b71level0_row3\" class=\"row_heading level0 row3\" >82</th>\n",
       "                        <th id=\"T_96d9409e_4133_11ed_88ef_a8e0a9813b71level1_row3\" class=\"row_heading level1 row3\" >Nirvana</th>\n",
       "                        <td id=\"T_96d9409e_4133_11ed_88ef_a8e0a9813b71row3_col0\" class=\"data row3 col0\" >9</td>\n",
       "                        <td id=\"T_96d9409e_4133_11ed_88ef_a8e0a9813b71row3_col1\" class=\"data row3 col1\" >$4.9</td>\n",
       "                        <td id=\"T_96d9409e_4133_11ed_88ef_a8e0a9813b71row3_col2\" class=\"data row3 col2\" >$44.1</td>\n",
       "            </tr>\n",
       "            <tr>\n",
       "                        <th id=\"T_96d9409e_4133_11ed_88ef_a8e0a9813b71level0_row4\" class=\"row_heading level0 row4\" >19</th>\n",
       "                        <th id=\"T_96d9409e_4133_11ed_88ef_a8e0a9813b71level1_row4\" class=\"row_heading level1 row4\" >Pursuit, Cudgel of Necromancy</th>\n",
       "                        <td id=\"T_96d9409e_4133_11ed_88ef_a8e0a9813b71row4_col0\" class=\"data row4 col0\" >8</td>\n",
       "                        <td id=\"T_96d9409e_4133_11ed_88ef_a8e0a9813b71row4_col1\" class=\"data row4 col1\" >$1.02</td>\n",
       "                        <td id=\"T_96d9409e_4133_11ed_88ef_a8e0a9813b71row4_col2\" class=\"data row4 col2\" >$8.16</td>\n",
       "            </tr>\n",
       "    </tbody></table>"
      ],
      "text/plain": [
       "<pandas.io.formats.style.Styler at 0x22a7f05f100>"
      ]
     },
     "execution_count": 169,
     "metadata": {},
     "output_type": "execute_result"
    }
   ],
   "source": [
    "#calculate count sum avg\n",
    "popular = purchase_data.groupby(['Item ID','Item Name'])\n",
    "popular_count = popular.agg('count')['Purchase ID']\n",
    "popular_sum = round(popular.agg('sum')['Price'],2)\n",
    "popular_item = round(popular.agg('sum')['Price']/popular.agg('count')['Purchase ID'],2)\n",
    "#plot df\n",
    "popular_analysis = {\n",
    "    'Purchase Count': popular_count,\n",
    "    'Item Price': popular_item,\n",
    "    'Total Purchase Value': popular_sum,\n",
    "}\n",
    "#dollar sign format\n",
    "df_popular = pd.DataFrame(popular_analysis)\n",
    "df_popular_new = df_popular.sort_values(['Purchase Count'], ascending=False).head(5)\n",
    "df_popular_new.style.format({\n",
    "    'Item Price': \"${:}\",\n",
    "    'Total Purchase Value': \"${:}\"\n",
    "})"
   ]
  },
  {
   "cell_type": "markdown",
   "metadata": {},
   "source": [
    "## Most Profitable Items"
   ]
  },
  {
   "cell_type": "markdown",
   "metadata": {},
   "source": [
    "* Top 5 most profitable items by total purchase value:\n",
    "  * Item ID\n",
    "  * Item Name\n",
    "  * Purchase Count\n",
    "  * Item Price\n",
    "  * Total Purchase Value\n",
    "* Sort the above table by total purchase value in descending order\n",
    "* Display a preview of the data frame"
   ]
  },
  {
   "cell_type": "code",
   "execution_count": 170,
   "metadata": {},
   "outputs": [
    {
     "data": {
      "text/html": [
       "<style  type=\"text/css\" >\n",
       "</style><table id=\"T_a144d59c_4133_11ed_a97f_a8e0a9813b71\" ><thead>    <tr>        <th class=\"blank\" ></th>        <th class=\"blank level0\" ></th>        <th class=\"col_heading level0 col0\" >Purchase Count</th>        <th class=\"col_heading level0 col1\" >Item Price</th>        <th class=\"col_heading level0 col2\" >Total Purchase Value</th>    </tr>    <tr>        <th class=\"index_name level0\" >Item ID</th>        <th class=\"index_name level1\" >Item Name</th>        <th class=\"blank\" ></th>        <th class=\"blank\" ></th>        <th class=\"blank\" ></th>    </tr></thead><tbody>\n",
       "                <tr>\n",
       "                        <th id=\"T_a144d59c_4133_11ed_a97f_a8e0a9813b71level0_row0\" class=\"row_heading level0 row0\" >178</th>\n",
       "                        <th id=\"T_a144d59c_4133_11ed_a97f_a8e0a9813b71level1_row0\" class=\"row_heading level1 row0\" >Oathbreaker, Last Hope of the Breaking Storm</th>\n",
       "                        <td id=\"T_a144d59c_4133_11ed_a97f_a8e0a9813b71row0_col0\" class=\"data row0 col0\" >12</td>\n",
       "                        <td id=\"T_a144d59c_4133_11ed_a97f_a8e0a9813b71row0_col1\" class=\"data row0 col1\" >$4.23</td>\n",
       "                        <td id=\"T_a144d59c_4133_11ed_a97f_a8e0a9813b71row0_col2\" class=\"data row0 col2\" >$50.76</td>\n",
       "            </tr>\n",
       "            <tr>\n",
       "                        <th id=\"T_a144d59c_4133_11ed_a97f_a8e0a9813b71level0_row1\" class=\"row_heading level0 row1\" >82</th>\n",
       "                        <th id=\"T_a144d59c_4133_11ed_a97f_a8e0a9813b71level1_row1\" class=\"row_heading level1 row1\" >Nirvana</th>\n",
       "                        <td id=\"T_a144d59c_4133_11ed_a97f_a8e0a9813b71row1_col0\" class=\"data row1 col0\" >9</td>\n",
       "                        <td id=\"T_a144d59c_4133_11ed_a97f_a8e0a9813b71row1_col1\" class=\"data row1 col1\" >$4.9</td>\n",
       "                        <td id=\"T_a144d59c_4133_11ed_a97f_a8e0a9813b71row1_col2\" class=\"data row1 col2\" >$44.1</td>\n",
       "            </tr>\n",
       "            <tr>\n",
       "                        <th id=\"T_a144d59c_4133_11ed_a97f_a8e0a9813b71level0_row2\" class=\"row_heading level0 row2\" >145</th>\n",
       "                        <th id=\"T_a144d59c_4133_11ed_a97f_a8e0a9813b71level1_row2\" class=\"row_heading level1 row2\" >Fiery Glass Crusader</th>\n",
       "                        <td id=\"T_a144d59c_4133_11ed_a97f_a8e0a9813b71row2_col0\" class=\"data row2 col0\" >9</td>\n",
       "                        <td id=\"T_a144d59c_4133_11ed_a97f_a8e0a9813b71row2_col1\" class=\"data row2 col1\" >$4.58</td>\n",
       "                        <td id=\"T_a144d59c_4133_11ed_a97f_a8e0a9813b71row2_col2\" class=\"data row2 col2\" >$41.22</td>\n",
       "            </tr>\n",
       "            <tr>\n",
       "                        <th id=\"T_a144d59c_4133_11ed_a97f_a8e0a9813b71level0_row3\" class=\"row_heading level0 row3\" >92</th>\n",
       "                        <th id=\"T_a144d59c_4133_11ed_a97f_a8e0a9813b71level1_row3\" class=\"row_heading level1 row3\" >Final Critic</th>\n",
       "                        <td id=\"T_a144d59c_4133_11ed_a97f_a8e0a9813b71row3_col0\" class=\"data row3 col0\" >8</td>\n",
       "                        <td id=\"T_a144d59c_4133_11ed_a97f_a8e0a9813b71row3_col1\" class=\"data row3 col1\" >$4.88</td>\n",
       "                        <td id=\"T_a144d59c_4133_11ed_a97f_a8e0a9813b71row3_col2\" class=\"data row3 col2\" >$39.04</td>\n",
       "            </tr>\n",
       "            <tr>\n",
       "                        <th id=\"T_a144d59c_4133_11ed_a97f_a8e0a9813b71level0_row4\" class=\"row_heading level0 row4\" >103</th>\n",
       "                        <th id=\"T_a144d59c_4133_11ed_a97f_a8e0a9813b71level1_row4\" class=\"row_heading level1 row4\" >Singed Scalpel</th>\n",
       "                        <td id=\"T_a144d59c_4133_11ed_a97f_a8e0a9813b71row4_col0\" class=\"data row4 col0\" >8</td>\n",
       "                        <td id=\"T_a144d59c_4133_11ed_a97f_a8e0a9813b71row4_col1\" class=\"data row4 col1\" >$4.35</td>\n",
       "                        <td id=\"T_a144d59c_4133_11ed_a97f_a8e0a9813b71row4_col2\" class=\"data row4 col2\" >$34.8</td>\n",
       "            </tr>\n",
       "    </tbody></table>"
      ],
      "text/plain": [
       "<pandas.io.formats.style.Styler at 0x22a7f05f610>"
      ]
     },
     "execution_count": 170,
     "metadata": {},
     "output_type": "execute_result"
    }
   ],
   "source": [
    "#sort value\n",
    "df_popular_profit = df_popular.sort_values(['Total Purchase Value'], ascending=False).head(5)\n",
    "#dollar sign format\n",
    "df_popular_profit.style.format({\n",
    "    'Item Price': \"${:}\",\n",
    "    'Total Purchase Value': \"${:}\"\n",
    "})"
   ]
  }
 ],
 "metadata": {
  "anaconda-cloud": {},
  "kernel_info": {
   "name": "python3"
  },
  "kernelspec": {
   "display_name": "Python 3 (ipykernel)",
   "language": "python",
   "name": "python3"
  },
  "language_info": {
   "codemirror_mode": {
    "name": "ipython",
    "version": 3
   },
   "file_extension": ".py",
   "mimetype": "text/x-python",
   "name": "python",
   "nbconvert_exporter": "python",
   "pygments_lexer": "ipython3",
   "version": "3.9.12"
  },
  "nteract": {
   "version": "0.8.4"
  }
 },
 "nbformat": 4,
 "nbformat_minor": 2
}
